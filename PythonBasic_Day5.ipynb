{
  "nbformat": 4,
  "nbformat_minor": 0,
  "metadata": {
    "colab": {
      "provenance": [],
      "authorship_tag": "ABX9TyNeCXrAJhE1GkGBRukuCRmG",
      "include_colab_link": true
    },
    "kernelspec": {
      "name": "python3",
      "display_name": "Python 3"
    },
    "language_info": {
      "name": "python"
    }
  },
  "cells": [
    {
      "cell_type": "markdown",
      "metadata": {
        "id": "view-in-github",
        "colab_type": "text"
      },
      "source": [
        "<a href=\"https://colab.research.google.com/github/hw-ch/pythonbasic/blob/main/PythonBasic_Day5.ipynb\" target=\"_parent\"><img src=\"https://colab.research.google.com/assets/colab-badge.svg\" alt=\"Open In Colab\"/></a>"
      ]
    },
    {
      "cell_type": "code",
      "execution_count": 1,
      "metadata": {
        "id": "x1qn8JLYhGrV"
      },
      "outputs": [],
      "source": [
        "# Function\n",
        "\n",
        "# 자바에서는 오히려 함수가 존재하지 않는다. 대신에 매서드를 사용한다. \n",
        "# 사실 거의 같지만 매서드는 클래스 내부에서 정의 된다. \n",
        "# 자바는 클래스 밖이라는 개념이 존재하지 않기 때문에 함수가 없다. \n",
        "\n",
        "# 파이썬은 클래스 밖의 개념과 클래스 안의 개념이 다 존재하기 때문에\n",
        "# 함수도 매서드도 모두 사용된다. \n",
        "\n",
        "# 함수란?\n",
        "\n",
        "# 믹서기에 딸기를 넣으면 딸기 주스가 바나나를 넣으면 바나나 주스가 만들어진다. \n",
        "# 함수도 이와 같이 입력 값에 따라 다른 실행 결과를 내보낸다. \n",
        "# 특히 파이썬도 자바와 같이 (매서드) 함수를 중요하게 많이 사용된다. \n",
        "\n",
        "# 왜?\n",
        "# 프로그래밍을 하다보면 같은 내용을 반복해서 실행 시켜야 할 부분이 상당히 많아진다. \n",
        "# 그때마다 새롭게 만들어서 사용하는 것이 아니라 한번 범용적으로 만들어서 \n",
        "# 필요할 때마다 호출하여 사용하면 프로그램의 흐름도 잘 파악할수 있고 오류가 어디서\n",
        "# 발생하는지도 쉽게 찾을 수 있다. \n",
        "\n"
      ]
    },
    {
      "cell_type": "code",
      "source": [
        "# def 함수명():\n",
        "#   수행구문1\n",
        "#   수행구문2\n",
        "\n",
        "# 함수 정의\n",
        "def add(a,b):\n",
        "  return a+b\n",
        "\n",
        "# 함수 호출\n",
        "print(add(1,2))\n",
        "print(add(3,5))\n"
      ],
      "metadata": {
        "colab": {
          "base_uri": "https://localhost:8080/"
        },
        "id": "NnyFdkf6hRvI",
        "outputId": "b3418429-d2fa-47d3-8dd9-77e207791b3d"
      },
      "execution_count": 2,
      "outputs": [
        {
          "output_type": "stream",
          "name": "stdout",
          "text": [
            "3\n",
            "8\n"
          ]
        }
      ]
    },
    {
      "cell_type": "code",
      "source": [
        "# 매개변수와 인수  (객체와 인스턴스 / 매서드와 함수, 파라미터 / )\n",
        "# 매개변수와 인수는 혼용하여 사용되는 조금 헷갈릴수 있는 용어이다. \n",
        "\n",
        "# 매개변수는 함수에 입력으로 전달 된 값을 받는 변수를 의미하고\n",
        "# 인수는 함수를 호출할때 전달하는 입력 값을 의미한다. \n",
        "\n",
        "def add(a,b):  # a,b 매개변수\n",
        "  return a+b\n",
        "\n",
        "print(add(1,2))# 1,2 인수 (진짜 값)\n",
        "print(add(3,5))# 3,5 인수"
      ],
      "metadata": {
        "colab": {
          "base_uri": "https://localhost:8080/"
        },
        "id": "riPQ5_qPhXiv",
        "outputId": "ee01a281-94b9-441f-ecee-1397488a50fa"
      },
      "execution_count": 3,
      "outputs": [
        {
          "output_type": "stream",
          "name": "stdout",
          "text": [
            "3\n",
            "8\n"
          ]
        }
      ]
    },
    {
      "cell_type": "code",
      "source": [
        "# 함수의 4가지 형태\n",
        "\n",
        "# 1. input값과 output값이 모두 존재하는 함수 (*****)\n",
        "# 2. input값이 없고 output값만 존재하는 함수\n",
        "# 3. input값은 있고 output값은 존재하지 않는 함수\n",
        "# 4. input값도 없고 output값도 없는 함수\n",
        "\n",
        "\n",
        "# 1. input값과 output값이 모두 존재하는 함수 (*****)\n",
        "# 함수 정의\n",
        "def add(a,b):  # input값이 있고\n",
        "  return a+b   # output값도 있다.\n",
        "\n",
        "# 함수 호출\n",
        "print(add(1,2))"
      ],
      "metadata": {
        "colab": {
          "base_uri": "https://localhost:8080/"
        },
        "id": "kax13r95hY5p",
        "outputId": "81a749ac-d5cf-4a48-c9e2-58b9eaa1f2ba"
      },
      "execution_count": 4,
      "outputs": [
        {
          "output_type": "stream",
          "name": "stdout",
          "text": [
            "3\n"
          ]
        }
      ]
    },
    {
      "cell_type": "code",
      "source": [
        "# 2. input값이 없고 output값만 존재하는 함수\n",
        "\n",
        "def say():\n",
        "  return 'Hello World'\n",
        "\n",
        "print(say())"
      ],
      "metadata": {
        "colab": {
          "base_uri": "https://localhost:8080/"
        },
        "id": "SYSiNUwErKWz",
        "outputId": "06b53989-6187-4855-9426-83a975789df4"
      },
      "execution_count": 5,
      "outputs": [
        {
          "output_type": "stream",
          "name": "stdout",
          "text": [
            "Hello World\n"
          ]
        }
      ]
    },
    {
      "cell_type": "code",
      "source": [
        "# 3. input값은 있고 output값은 존재하지 않는 함수\n",
        "\n",
        "def yesinput(name):\n",
        "  print(name,'님 어서오세요')\n",
        "\n",
        "\n",
        "yesinput('홍길동')"
      ],
      "metadata": {
        "colab": {
          "base_uri": "https://localhost:8080/"
        },
        "id": "QTfjk7L4rM3X",
        "outputId": "34fb3457-f18d-4724-a869-fcf33c7e55de"
      },
      "execution_count": 6,
      "outputs": [
        {
          "output_type": "stream",
          "name": "stdout",
          "text": [
            "홍길동 님 어서오세요\n"
          ]
        }
      ]
    },
    {
      "cell_type": "code",
      "source": [
        "# 4. input값도 없고 output값도 없는 함수\n",
        "\n",
        "def noinnoout():\n",
        "  print('환영합니다.')\n",
        "\n",
        "noinnoout()\n",
        "\n"
      ],
      "metadata": {
        "colab": {
          "base_uri": "https://localhost:8080/"
        },
        "id": "fn4SbdqnrQAC",
        "outputId": "9126cb25-4861-48e1-b51f-cc9a67cec002"
      },
      "execution_count": 7,
      "outputs": [
        {
          "output_type": "stream",
          "name": "stdout",
          "text": [
            "환영합니다.\n"
          ]
        }
      ]
    },
    {
      "cell_type": "code",
      "source": [
        "# 매개 변수의 수를 알수 없을때, 즉, 몇 개의 매개 변수가 들어올 지 모를때...\n",
        "# 가변 매개변수\n",
        "\n",
        "def add2(a,b):\n",
        "  return a+b\n",
        "\n",
        "def add3(a,b,c):\n",
        "  return a+b+c\n",
        "\n",
        "\n",
        "def add(*args):\n",
        "  result = 0\n",
        "  for i in args:\n",
        "    result = result + i\n",
        "  print(result)\n",
        "\n",
        "add(1,2)\n",
        "add(1,2,3)\n",
        "add(1,2,3,4,5,6,7,8)"
      ],
      "metadata": {
        "colab": {
          "base_uri": "https://localhost:8080/"
        },
        "id": "aw_qD_hFrSbf",
        "outputId": "ad0eb17c-ec5b-4654-9376-3ee93ecaaeab"
      },
      "execution_count": 8,
      "outputs": [
        {
          "output_type": "stream",
          "name": "stdout",
          "text": [
            "3\n",
            "6\n",
            "36\n"
          ]
        }
      ]
    },
    {
      "cell_type": "code",
      "source": [
        "# 함수의 리턴값은 언제나 하나이다. \n",
        "\n",
        "\n",
        "def addmul(a,b):\n",
        "  return a+b\n",
        "  return a*b\n",
        "\n",
        "print(addmul(2,3))\n",
        "\n",
        "def addmul2(a,b):\n",
        "  return a+b, a*b\n",
        "\n",
        "addmul2(2,3)\n",
        "\n",
        "# 결과 값으로 튜플 (5, 6) 출력되었다. 2개가 아닌 튜플 1개로 출력된 것이다. "
      ],
      "metadata": {
        "colab": {
          "base_uri": "https://localhost:8080/"
        },
        "id": "n7y_YnmorWwe",
        "outputId": "48a309ae-10cf-4065-c2e4-7f6b91fc1427"
      },
      "execution_count": 9,
      "outputs": [
        {
          "output_type": "stream",
          "name": "stdout",
          "text": [
            "5\n"
          ]
        },
        {
          "output_type": "execute_result",
          "data": {
            "text/plain": [
              "(5, 6)"
            ]
          },
          "metadata": {},
          "execution_count": 9
        }
      ]
    },
    {
      "cell_type": "code",
      "source": [
        "# 매개 변수에 미리 초기값 설정하기\n",
        "\n",
        "def aboutme(name, age, gender=True):\n",
        "  print(f'나의 이름은 {name}입니다.')\n",
        "  print(f'나이는 {age}살 입니다.')\n",
        "  if gender:\n",
        "    print(f'나의 성별은 남성입니다.')\n",
        "  else:\n",
        "    print(f'나의 설별은 여성입니다.')\n",
        "\n",
        "aboutme(\"송중기\",32, True)\n",
        "aboutme(\"송중기\",32)"
      ],
      "metadata": {
        "colab": {
          "base_uri": "https://localhost:8080/"
        },
        "id": "3chsQQdUrZe5",
        "outputId": "e82a2f09-c4f0-4823-9d3f-bc7745e57f9c"
      },
      "execution_count": 10,
      "outputs": [
        {
          "output_type": "stream",
          "name": "stdout",
          "text": [
            "나의 이름은 송중기입니다.\n",
            "나이는 32살 입니다.\n",
            "나의 성별은 남성입니다.\n",
            "나의 이름은 송중기입니다.\n",
            "나이는 32살 입니다.\n",
            "나의 성별은 남성입니다.\n"
          ]
        }
      ]
    },
    {
      "cell_type": "code",
      "source": [
        "# 함수 안에서 변수 효력 범위 (지역변수/전역변수)\n",
        "\n",
        "a = 1 #> 전역변수\n",
        "\n",
        "def vartest(a):\n",
        "  a+=1 #2 > 지역변수\n",
        "\n",
        "print(vartest(a)) #함수 안에서 사용하는 매개변수는 함수 밖의 변수 이름과는 전혀 관련이 없다.\n",
        "print(a)"
      ],
      "metadata": {
        "colab": {
          "base_uri": "https://localhost:8080/"
        },
        "id": "mywpgYl2rgbp",
        "outputId": "9ce51590-b0f8-4ff8-dbc2-c9807386b598"
      },
      "execution_count": 14,
      "outputs": [
        {
          "output_type": "stream",
          "name": "stdout",
          "text": [
            "None\n",
            "1\n"
          ]
        }
      ]
    },
    {
      "cell_type": "code",
      "source": [
        "\n",
        "def vartest(b):\n",
        "  b += 1\n",
        "  return b\n",
        "\n",
        "print(vartest(3))\n",
        "# print(b) # b를 선언하지 않았기때문에 (매개변수와는 관련 X)"
      ],
      "metadata": {
        "colab": {
          "base_uri": "https://localhost:8080/"
        },
        "id": "PNvipcoir9VP",
        "outputId": "74fa9b55-8c81-449b-80be-5f028ebfce5d"
      },
      "execution_count": 19,
      "outputs": [
        {
          "output_type": "stream",
          "name": "stdout",
          "text": [
            "4\n"
          ]
        }
      ]
    },
    {
      "cell_type": "code",
      "source": [
        "# Class / Object\n",
        "\n",
        "# Object Oriented Programming 객체 지향 프로그래밍\n",
        "\n",
        "# 객체 지향 프로그래밍이 필수는 아니다. C언어의 겨웅 객체 지향 언어가 아니다.\n",
        "\n",
        "# 클래스는 붕어빵 기계 객체는 붕어빵\n",
        "\n",
        "# 인스턴스와 객체의 차이\n",
        "# 클래스로 만든 객체를 인스턴스라고 부른다.\n",
        "# a는 쿠키 클래스의 인스턴스이다.\n",
        "# a는 객체이다.\n",
        "\n",
        "# 인스턴스는 클래스와의 관계를 설명할 때 사용하고, 객체는 관계가 아닌 그 자체를 설명할 때 사용된다."
      ],
      "metadata": {
        "id": "OkwEj9pCssim"
      },
      "execution_count": 20,
      "outputs": []
    },
    {
      "cell_type": "code",
      "source": [
        "#클래스 정의\n",
        "class Cal:\n",
        "  pass\n",
        "\n",
        "#클래스로 인스턴스 생성\n",
        "a = Cal()\n"
      ],
      "metadata": {
        "id": "dkH0ElhsxYl7"
      },
      "execution_count": 21,
      "outputs": []
    },
    {
      "cell_type": "code",
      "source": [
        "result = 0\n",
        "result2 = 0\n",
        "\n",
        "def add(num):\n",
        "  global result\n",
        "  result += num\n",
        "  return result\n",
        "def add2(num):\n",
        "  global result2\n",
        "  result2 += num\n",
        "  return result2\n",
        "\n",
        "print(add(3))\n",
        "print(add(4))\n",
        "print(add(1))\n",
        "print()\n",
        "print(add2(2))\n",
        "print(add2(1))\n",
        "print(add2(3))\n",
        "\n",
        "#똑같은 계산을 하는 계산기들이 각각 다른 결과 값을 유지하고 있다.\n",
        "#계산기 1은 계산기 2에 전혀 영향을 주지 않는다.\n",
        "\n",
        "#하지만 문제는 계산기가 더 필요해진다면 또 같은 계산기들을 만들어야 한다.\n",
        "#따라서 클래스를 사용하여 계산기를 만들어 보자.."
      ],
      "metadata": {
        "colab": {
          "base_uri": "https://localhost:8080/"
        },
        "id": "GuPcZwNU1aMk",
        "outputId": "0cf2e3d8-42cc-49a1-a573-d9f52cfb543e"
      },
      "execution_count": 26,
      "outputs": [
        {
          "output_type": "stream",
          "name": "stdout",
          "text": [
            "3\n",
            "7\n",
            "8\n",
            "\n",
            "2\n",
            "3\n",
            "6\n"
          ]
        }
      ]
    },
    {
      "cell_type": "code",
      "source": [
        "class Cal:\n",
        "  def __init__(self): #파이썬의 생성자\n",
        "    self.result = 0\n",
        "  \n",
        "  def add(self, num):\n",
        "    self.result += num\n",
        "    return self.result\n",
        "\n",
        "cal1 = Cal()\n",
        "cal2 = Cal()\n",
        "cal3 = Cal()\n",
        "\n",
        "print(cal1.add(2))\n",
        "print(cal1.add(1))\n",
        "print(cal1.add(3))\n",
        "print()\n",
        "print(cal2.add(5))\n",
        "print(cal2.add(4))\n",
        "print(cal2.add(1))\n",
        "print()\n",
        "print(cal3.add(2))\n",
        "\n",
        "#동일한 클래스로 만든 객체들은 각기 다른 특성을 가지게 된다."
      ],
      "metadata": {
        "colab": {
          "base_uri": "https://localhost:8080/"
        },
        "id": "b5qm9W181f61",
        "outputId": "1d77da79-618d-4781-e1bc-f18dcf34f37c"
      },
      "execution_count": 27,
      "outputs": [
        {
          "output_type": "stream",
          "name": "stdout",
          "text": [
            "2\n",
            "3\n",
            "6\n",
            "\n",
            "5\n",
            "9\n",
            "10\n",
            "\n",
            "2\n"
          ]
        }
      ]
    },
    {
      "cell_type": "code",
      "source": [
        "class BigCal:\n",
        "  def setdata(self, first, second):\n",
        "    self.first = first\n",
        "    self.second = second\n",
        "  def add(self):\n",
        "    result = self.first + self.second\n",
        "    return result\n",
        "  def sub(self):\n",
        "    result = self.first - self.second\n",
        "    return result\n",
        "  def mul(self):\n",
        "    result = self.first * self.second\n",
        "    return result\n",
        "  def div(self):\n",
        "    result = self.first / self.second\n",
        "    return result\n",
        "\n",
        "smCal1 = BigCal()\n",
        "smCal1.setdata(2,3) #2가 first, 3이 second self는 cal1된다.\n",
        "\n",
        "print(smCal1.first)\n",
        "print(smCal1.second)\n",
        "print(smCal1.add())\n",
        "print(smCal1.sub())\n",
        "print(smCal1.mul())\n",
        "print(round(smCal1.div(),2))\n",
        "\n",
        "#하나의 클래스로 생성된 여러 개의 객체들은 각각 다른 성질을 유지한다."
      ],
      "metadata": {
        "colab": {
          "base_uri": "https://localhost:8080/"
        },
        "id": "D53IsoNC4JsW",
        "outputId": "edb7c15e-0ef2-4b4a-eb41-076e3e2f16e9"
      },
      "execution_count": 33,
      "outputs": [
        {
          "output_type": "stream",
          "name": "stdout",
          "text": [
            "2\n",
            "3\n",
            "5\n",
            "-1\n",
            "6\n",
            "0.67\n"
          ]
        }
      ]
    },
    {
      "cell_type": "code",
      "source": [
        "class BigCal:\n",
        "  def __init__(self, first, second):\n",
        "    self.first = first\n",
        "    self.second = second\n",
        "\n",
        "  def setdata(self, first, second):\n",
        "    self.first = first\n",
        "    self.second = second\n",
        "  def add(self):\n",
        "    result = self.first + self.second\n",
        "    return result\n",
        "  def sub(self):\n",
        "    result = self.first - self.second\n",
        "    return result\n",
        "  def mul(self):\n",
        "    result = self.first * self.second\n",
        "    return result\n",
        "  def div(self):\n",
        "    result = self.first / self.second\n",
        "    return result\n",
        "\n",
        "smCal1 = BigCal(2,3)\n",
        "# smCal1.setdata(2,3) #2가 first, 3이 second self는 cal1된다.\n",
        "\n",
        "print(smCal1.first)\n",
        "print(smCal1.second)\n",
        "print(smCal1.add())\n",
        "print(smCal1.sub())\n",
        "print(smCal1.mul())\n",
        "print(round(smCal1.div(),2))\n",
        "\n",
        "#하나의 클래스로 생성된 여러 개의 객체들은 각각 다른 성질을 유지한다."
      ],
      "metadata": {
        "colab": {
          "base_uri": "https://localhost:8080/"
        },
        "id": "Xel8GGiK5dYp",
        "outputId": "2190f66a-3594-4117-9cc6-0cad3e8bdc0d"
      },
      "execution_count": 34,
      "outputs": [
        {
          "output_type": "stream",
          "name": "stdout",
          "text": [
            "2\n",
            "3\n",
            "5\n",
            "-1\n",
            "6\n",
            "0.67\n"
          ]
        }
      ]
    }
  ]
}