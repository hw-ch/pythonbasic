{
  "nbformat": 4,
  "nbformat_minor": 0,
  "metadata": {
    "colab": {
      "provenance": [],
      "authorship_tag": "ABX9TyM5tn5SfWZK2XK+uBL2rVfP",
      "include_colab_link": true
    },
    "kernelspec": {
      "name": "python3",
      "display_name": "Python 3"
    },
    "language_info": {
      "name": "python"
    }
  },
  "cells": [
    {
      "cell_type": "markdown",
      "metadata": {
        "id": "view-in-github",
        "colab_type": "text"
      },
      "source": [
        "<a href=\"https://colab.research.google.com/github/hw-ch/pythonbasic/blob/main/pythonBasicipynb.ipynb\" target=\"_parent\"><img src=\"https://colab.research.google.com/assets/colab-badge.svg\" alt=\"Open In Colab\"/></a>"
      ]
    },
    {
      "cell_type": "code",
      "execution_count": 1,
      "metadata": {
        "colab": {
          "base_uri": "https://localhost:8080/"
        },
        "id": "RuXTU9qMkWCa",
        "outputId": "ef92df65-6c66-4d18-b81d-383f9d81b3a1"
      },
      "outputs": [
        {
          "output_type": "stream",
          "name": "stdout",
          "text": [
            "Hello World! 홍길동\n"
          ]
        }
      ],
      "source": [
        "print(\"Hello World! 홍길동\")"
      ]
    },
    {
      "cell_type": "code",
      "source": [
        "# 파이썬은 "
      ],
      "metadata": {
        "id": "FYN2KNbhnhw3"
      },
      "execution_count": null,
      "outputs": []
    },
    {
      "cell_type": "code",
      "source": [
        "# 정수형 자료형\n",
        "a=100\n",
        "b=-123\n",
        "c=0"
      ],
      "metadata": {
        "id": "NMYCEJ3VqT63"
      },
      "execution_count": 2,
      "outputs": []
    },
    {
      "cell_type": "code",
      "source": [
        "#실수형 자료형\n",
        "a=3.14\n",
        "b=-5.16"
      ],
      "metadata": {
        "id": "PxQjzbEKqWjM"
      },
      "execution_count": 3,
      "outputs": []
    },
    {
      "cell_type": "code",
      "source": [
        "#숫자형 자료형에서의 연산\n",
        "a=3\n",
        "b=4\n",
        "\n",
        "#코랩에서는 print를 생략해도 알아서 마지막에 print() 를 넣어준다.\n",
        "a+b\n",
        "a-b"
      ],
      "metadata": {
        "colab": {
          "base_uri": "https://localhost:8080/"
        },
        "id": "Q_2qAqr-qZOL",
        "outputId": "31061415-6e49-4750-f98e-ae7a5f2e2709"
      },
      "execution_count": 4,
      "outputs": [
        {
          "output_type": "execute_result",
          "data": {
            "text/plain": [
              "-1"
            ]
          },
          "metadata": {},
          "execution_count": 4
        }
      ]
    },
    {
      "cell_type": "code",
      "source": [
        "a+b\n",
        "a-b\n",
        "\n",
        "print(a+b)\n",
        "print(a-b)\n",
        "\n",
        "#print() 구문을 생략하는 경우 마지막 구문만 출력해주기 때문에 전부 출력하고 싶으면 각각 print() 구문을 적어야 한다."
      ],
      "metadata": {
        "colab": {
          "base_uri": "https://localhost:8080/"
        },
        "id": "pfUdjGUNqbfv",
        "outputId": "0f14098f-cc5e-4bc9-cdfc-b3ef9f30adff"
      },
      "execution_count": 5,
      "outputs": [
        {
          "output_type": "stream",
          "name": "stdout",
          "text": [
            "7\n",
            "-1\n"
          ]
        }
      ]
    },
    {
      "cell_type": "code",
      "source": [
        "#나머지 연산자 - 홀수 짝수 배수 확인\n",
        "\n",
        "5/2 #일반적인 나머지 구하고"
      ],
      "metadata": {
        "colab": {
          "base_uri": "https://localhost:8080/"
        },
        "id": "RQBfJnOwrfMG",
        "outputId": "a6a0b65d-6e01-4f07-ebdc-e8f59575929f"
      },
      "execution_count": 6,
      "outputs": [
        {
          "output_type": "execute_result",
          "data": {
            "text/plain": [
              "2.5"
            ]
          },
          "metadata": {},
          "execution_count": 6
        }
      ]
    },
    {
      "cell_type": "code",
      "source": [
        "5%2 #나눈 결과의 몫은 버리고 나머지만 취한다.\n",
        "# 따라서 어떤 수를 2로 나눈 나머지가 0이 나오면 짝수"
      ],
      "metadata": {
        "colab": {
          "base_uri": "https://localhost:8080/"
        },
        "id": "3ph6J-tlsExr",
        "outputId": "dd4ab755-35cb-4244-f87d-1b385643b7b2"
      },
      "execution_count": 9,
      "outputs": [
        {
          "output_type": "execute_result",
          "data": {
            "text/plain": [
              "1"
            ]
          },
          "metadata": {},
          "execution_count": 9
        }
      ]
    },
    {
      "cell_type": "code",
      "source": [
        "#문자열 자료형 - 파이썬에서는 \"\" 와 '' 가 완전히 동일하게 사용된다\n",
        "\"Hello World\"\n",
        "'Hello World'\n",
        "\n",
        "#3중 따옴표\n",
        "\"\"\"Hello World\"\"\"\n",
        "'''Hello World'''"
      ],
      "metadata": {
        "colab": {
          "base_uri": "https://localhost:8080/",
          "height": 36
        },
        "id": "1fL1U5A7v8hH",
        "outputId": "327557b7-d05f-4138-fb6a-14578bb26d74"
      },
      "execution_count": 10,
      "outputs": [
        {
          "output_type": "execute_result",
          "data": {
            "text/plain": [
              "'Hello World'"
            ],
            "application/vnd.google.colaboratory.intrinsic+json": {
              "type": "string"
            }
          },
          "metadata": {},
          "execution_count": 10
        }
      ]
    },
    {
      "cell_type": "code",
      "source": [
        "#파이썬에서는 큰 띠ㅏ옴표와 작은 따옴표에 전혀 차이가 없지만 아래의 용도로 분리하여 사용한다.\n",
        "\"Python's\" #작은 따옴표 하나를 출력하기 위한 용도\n",
        "'say \"Hello\"' #작은 따옴표 안에서 큰 따옴표를 출력하기 위한 용도"
      ],
      "metadata": {
        "colab": {
          "base_uri": "https://localhost:8080/",
          "height": 36
        },
        "id": "JJYUaZRKsGFE",
        "outputId": "8c524850-3883-4bff-ff3d-ca20eb4e7886"
      },
      "execution_count": 12,
      "outputs": [
        {
          "output_type": "execute_result",
          "data": {
            "text/plain": [
              "'say \"Hello\"'"
            ],
            "application/vnd.google.colaboratory.intrinsic+json": {
              "type": "string"
            }
          },
          "metadata": {},
          "execution_count": 12
        }
      ]
    },
    {
      "cell_type": "code",
      "source": [
        "# \\n 줄바꿈\n",
        "a = \"I love you\\n hihihi\"\n",
        "\n",
        "print(a)\n",
        "\n",
        "b = \"\"\"I love you\n",
        "hihihihihi\"\"\"\n",
        "print(b)\n",
        "\n",
        "#에러 발생\n",
        "# c = \" I love you\n",
        "# gigigigi\""
      ],
      "metadata": {
        "colab": {
          "base_uri": "https://localhost:8080/"
        },
        "id": "JGWoWQTKxJE7",
        "outputId": "c27f2e12-12b3-45ad-e92c-dcc7de4abeea"
      },
      "execution_count": 17,
      "outputs": [
        {
          "output_type": "stream",
          "name": "stdout",
          "text": [
            "I love you\n",
            " hihihi\n",
            "I love you\n",
            "hihihihihi\n"
          ]
        }
      ]
    },
    {
      "cell_type": "code",
      "source": [
        "#문자열 연산\n",
        "\n",
        "#파이썬에서는 문자열도 연산이 가능하다. 특히 다른 언어에서는 발견하기 어려운 파이썬만의 독특한 특징이다.\n",
        "#이런 점들이 바로 파이썬은 우리의 생각을 그대로 반영할 수 있다는 파이썬만의 장점이다.\n",
        "\n",
        "a = \"i\"\n",
        "b = \"love\"\n",
        "c = \"you\"\n",
        "\n",
        "print(a+b+c)\n",
        "\n",
        "d = \"love\"\n",
        "print(d*3)\n",
        "\n",
        "e = \"=\"\n",
        "print(e*30)"
      ],
      "metadata": {
        "colab": {
          "base_uri": "https://localhost:8080/"
        },
        "id": "Kvo-7NUrxWMk",
        "outputId": "60760140-df8d-4ce5-d000-23ab8628ee9c"
      },
      "execution_count": 21,
      "outputs": [
        {
          "output_type": "stream",
          "name": "stdout",
          "text": [
            "iloveyou\n",
            "lovelovelove\n",
            "==============================\n"
          ]
        }
      ]
    },
    {
      "cell_type": "code",
      "source": [
        "#문자열 자료형에서 많이 사용되는 함수들\n",
        "#1. 문자열의 길이 구하기 - len()\n",
        "print(len(\"i love you\")) #빈칸도 글자 취급"
      ],
      "metadata": {
        "colab": {
          "base_uri": "https://localhost:8080/"
        },
        "id": "4iiyXoG-y3AY",
        "outputId": "30961358-910b-49d7-c656-531923b0f89e"
      },
      "execution_count": 22,
      "outputs": [
        {
          "output_type": "stream",
          "name": "stdout",
          "text": [
            "10\n"
          ]
        }
      ]
    },
    {
      "cell_type": "code",
      "source": [
        "#인덱싱과 슬라이싱 indexing & slicing\n",
        "#참고로 인덱싱과 슬라이싱은 리스트와 튜플에서도 완전히 동일하게 사용된다.\n",
        "\n",
        "#인덱싱 - 한 개의 글자 추출\n",
        "a = 'I love You'\n",
        "print(a[0])\n",
        "print(a[9])\n",
        "print(a[-1]) # 마지막 글자 추출은 -1을 사용한다.\n",
        "print(a[-3])"
      ],
      "metadata": {
        "colab": {
          "base_uri": "https://localhost:8080/"
        },
        "id": "6zbeyFhs0bhV",
        "outputId": "128ceda3-52e4-4ebb-e940-8dbcd8fb3bc4"
      },
      "execution_count": 25,
      "outputs": [
        {
          "output_type": "stream",
          "name": "stdout",
          "text": [
            "I\n",
            "u\n",
            "u\n",
            "Y\n"
          ]
        }
      ]
    },
    {
      "cell_type": "code",
      "source": [
        "#슬라이싱 - 여러 개의 글자 추출\n",
        "a = 'I love you'\n",
        "print(a[2] + a[3] + a[4] + a[5])\n",
        "\n",
        "print(a[2:6]) #끝자리를 나타내는 수는 미만을 의미한다.\n",
        "print(a[7:]) #끝자리를 생략하면 끝까지 출력한다.\n",
        "print(a[:2]) #시작 자리를 생략하면 처음, 즉 0부터 시작한다\n",
        "print(a[:]) #모든 자리 생략하면 처음부터 끝까지 출력한다.\n",
        "print(a[7:-1]) #슬라이싱에서도 - 표기를 사용할 수 있다."
      ],
      "metadata": {
        "colab": {
          "base_uri": "https://localhost:8080/"
        },
        "id": "3LUHKEre1P-t",
        "outputId": "34140858-6f67-405c-e50e-ae9d0a3716cc"
      },
      "execution_count": 30,
      "outputs": [
        {
          "output_type": "stream",
          "name": "stdout",
          "text": [
            "love\n",
            "love\n",
            "you\n",
            "I \n",
            "I love you\n",
            "yo\n"
          ]
        }
      ]
    },
    {
      "cell_type": "code",
      "source": [
        "#문자열 출력방법 - 총 4가지 방법 중 2가지를 가장 많이 사용한다.\n",
        "#1 문자열 포맷팅 (중요도 하)\n",
        "print(\"I %s you\" % \"love\") # 문자열 자리를 뒤에서 전달\n",
        "print(\"I ate %d apples\" % 5)\n",
        "print(\"I ate %s apples\" % 5)\n",
        "\n",
        "print(\"I %s you, I ate %s apples\" % (\"love\", 5)) #두개를 한 번에 전달할 수 있다.\n",
        "\n",
        "print(\"-------------------\")\n",
        "# 2 format() 포맷 함수 (중요도 하) // 자료형을 표현하지 않고 자리만 표시\n",
        "\n",
        "print(\"I {} you\".format(\"love\"))\n",
        "print(\"I ate {} apples\".format(5))\n",
        "print(\"I ate {} apples\".format(5))\n",
        "\n",
        "print(\"I {} you, I ate {} apples\".format(\"love\", 5))"
      ],
      "metadata": {
        "colab": {
          "base_uri": "https://localhost:8080/"
        },
        "id": "WaETYV7J2GjY",
        "outputId": "26a4bf47-5611-4141-e064-e53c5673bd7d"
      },
      "execution_count": 37,
      "outputs": [
        {
          "output_type": "stream",
          "name": "stdout",
          "text": [
            "I love you\n",
            "I ate 5 apples\n",
            "I ate 5 apples\n",
            "I love you, I ate 5 apples\n",
            "-------------------\n",
            "I love you\n",
            "I ate 5 apples\n",
            "I ate 5 apples\n",
            "I love you, I ate 5 apples\n"
          ]
        }
      ]
    },
    {
      "cell_type": "code",
      "source": [
        "# 3 f 스트링 (중요도 상)\n",
        "a= \"love\"\n",
        "b= 5\n",
        "print(f\"i {a} you\")\n",
        "print(f\"I ate {b} apples\")\n",
        "print(f\"I {a} you, I ate {b} apples\")\n",
        "\n",
        "# 4 연산자 사용\n",
        "a= \"love\"\n",
        "b= 5\n",
        "print(\"i \" + a + \" you\")\n",
        "print(\"I ate\", b, \"apples\")\n",
        "print(\"I \" + a + \" you, I ate\", b, \"apples\")\n"
      ],
      "metadata": {
        "colab": {
          "base_uri": "https://localhost:8080/"
        },
        "id": "7oPSUald8V7z",
        "outputId": "e7bee1e2-b7cc-4757-d7ab-ded0b5fc6b3e"
      },
      "execution_count": 45,
      "outputs": [
        {
          "output_type": "stream",
          "name": "stdout",
          "text": [
            "i love you\n",
            "I ate 5 apples\n",
            "I love you, I ate 5 apples\n",
            "i love you\n",
            "I ate 5 apples\n",
            "I love you, I ate 5 apples\n"
          ]
        }
      ]
    },
    {
      "cell_type": "code",
      "source": [
        "#문자열 관련 자주 사용하는 함수 정리\n",
        "\n",
        "#1 len 문자열의 갯수 확인(공백 포함)\n",
        "print(len(\"i love you\"))\n"
      ],
      "metadata": {
        "colab": {
          "base_uri": "https://localhost:8080/"
        },
        "id": "LRkq_IDA-et6",
        "outputId": "16bbcc30-7810-44a1-f0c5-273357e5fbe5"
      },
      "execution_count": 46,
      "outputs": [
        {
          "output_type": "stream",
          "name": "stdout",
          "text": [
            "10\n"
          ]
        }
      ]
    },
    {
      "cell_type": "code",
      "source": [],
      "metadata": {
        "id": "r0LOYil3Ayds"
      },
      "execution_count": null,
      "outputs": []
    }
  ]
}