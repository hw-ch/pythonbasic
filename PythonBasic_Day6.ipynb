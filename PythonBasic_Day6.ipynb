{
  "nbformat": 4,
  "nbformat_minor": 0,
  "metadata": {
    "colab": {
      "provenance": [],
      "authorship_tag": "ABX9TyPd1Vb27Hs+j1VWv7sJ4h5X",
      "include_colab_link": true
    },
    "kernelspec": {
      "name": "python3",
      "display_name": "Python 3"
    },
    "language_info": {
      "name": "python"
    }
  },
  "cells": [
    {
      "cell_type": "markdown",
      "metadata": {
        "id": "view-in-github",
        "colab_type": "text"
      },
      "source": [
        "<a href=\"https://colab.research.google.com/github/hw-ch/pythonbasic/blob/main/PythonBasic_Day6.ipynb\" target=\"_parent\"><img src=\"https://colab.research.google.com/assets/colab-badge.svg\" alt=\"Open In Colab\"/></a>"
      ]
    },
    {
      "cell_type": "code",
      "execution_count": 46,
      "metadata": {
        "colab": {
          "base_uri": "https://localhost:8080/"
        },
        "id": "NDrhESwNvwp6",
        "outputId": "f56c4df8-ee88-4899-bec6-f7f8a492a817"
      },
      "outputs": [
        {
          "output_type": "execute_result",
          "data": {
            "text/plain": [
              "5"
            ]
          },
          "metadata": {},
          "execution_count": 46
        }
      ],
      "source": [
        "# Inheritance  상속\n",
        "\n",
        "# 실세계와 동일한 의미로 사용된다. 마치 재산을 상속받는 것처럼 같은 의미이다. \n",
        "# 즉 다른 클래스의 기능을 물려받아 사용할수 있다. \n",
        "\n",
        "\n",
        "class BigCal:\n",
        "\n",
        "  def __init__(self, first, second):\n",
        "    self.first = first\n",
        "    self.second = second\n",
        "\n",
        "  def add(self):\n",
        "    result = self.first + self.second\n",
        "    return result\n",
        "\n",
        "  def sub(self):\n",
        "    result = self.first - self.second\n",
        "    return result\n",
        "\n",
        "  def mul(self):\n",
        "    result = self.first * self.second\n",
        "    return result\n",
        "\n",
        "  def div(self):\n",
        "    result = self.first / self.second\n",
        "    return result\n",
        "\n",
        "class SmallCal(BigCal):\n",
        "  pass\n",
        "\n",
        "sc1 = SmallCal(3,2)  # sc1은 SmallCal로 생성하기 때문에 SmallCal 은 BigCal을 상속하기 때문에 \n",
        "                     # BigCal 의 생성자의 규칙에 맞게 생성해야 한다. \n",
        "\n",
        "sc1.add()\n"
      ]
    },
    {
      "cell_type": "code",
      "source": [
        "# 왜 상속을 사용할까...\n",
        "\n",
        "# 보통 상속을 사용하면 기존 클래스는 그대로 놔두고 기능을 추가하거나 또는 기존 기능을 변경\n",
        "# 하고자 할때 사용된다. \n",
        "\n",
        "# 그냥 원래 클래스를 변경하면 되지 않을까...라고 생각할수 있으나 고급 사용방식에서는 기존 클래스가\n",
        "# 라이브러리 형태로 제공되기 때문에 수정이 허용되지 않는 상황이 발생하게 된다. \n",
        "\n",
        "class MidCal(BigCal):\n",
        "  def pow(self):  # 기존 BigCal 에는 사칙연산만 있었으나 거기다가 제곱을 계산하는 기능 추가\n",
        "    result =self.first ** self.second\n",
        "    return result\n",
        "\n",
        "cal1 = BigCal(2,3)\n",
        "#cal1.pow()  # 부모가 자식의 자원을 사용할수는 없다. \n",
        "print(cal1.add())\n",
        "\n",
        "\n",
        "cal2 = MidCal(2,3)\n",
        "print(cal2.pow())\n",
        "print(cal2.add())  # 자식은 부모의 자원을 가져다가 쓴다. \n",
        "\n",
        "# 상속은 기존 클래스의 내용은 그대로 두고 클래스의 기능을 확장시킬때 주로 사용된다. \n",
        "\n"
      ],
      "metadata": {
        "colab": {
          "base_uri": "https://localhost:8080/"
        },
        "id": "7RL-UHGJwtDS",
        "outputId": "8165c8dd-866b-4e13-8ac2-903ea32d423d"
      },
      "execution_count": 2,
      "outputs": [
        {
          "output_type": "stream",
          "name": "stdout",
          "text": [
            "5\n",
            "8\n",
            "5\n"
          ]
        }
      ]
    },
    {
      "cell_type": "code",
      "source": [
        "# 파이썬 은 자바와는 달리 다중상속을 지원한다. \n",
        "\n",
        "class A():\n",
        "  pass\n",
        "\n",
        "class B():\n",
        "  pass\n",
        "\n",
        "class C(A,B):\n",
        "  pass\n",
        "\n"
      ],
      "metadata": {
        "id": "8_6VShbewwbj"
      },
      "execution_count": 3,
      "outputs": []
    },
    {
      "cell_type": "code",
      "source": [
        "\n",
        "\n",
        "class BigCal:\n",
        "\n",
        "  def __init__(self, first, second):\n",
        "    self.first = first\n",
        "    self.second = second\n",
        "\n",
        "  def add(self):\n",
        "    result = self.first + self.second\n",
        "    return result\n",
        "\n",
        "  def sub(self):\n",
        "    result = self.first - self.second\n",
        "    return result\n",
        "\n",
        "  def mul(self):\n",
        "    result = self.first * self.second\n",
        "    return result\n",
        "\n",
        "  def div(self):\n",
        "    result = self.first / self.second\n",
        "    return result\n",
        "\n",
        "a = BigCal(2,3)\n",
        "print(a.div())\n",
        "\n",
        "b = BigCal(2,0)  \n",
        "# print(b.div())   #ZeroDivisionError: division by zero"
      ],
      "metadata": {
        "colab": {
          "base_uri": "https://localhost:8080/"
        },
        "id": "iNVtE4iqwzMe",
        "outputId": "f3ede0b1-337c-4fd3-e528-17bd64edba9e"
      },
      "execution_count": 47,
      "outputs": [
        {
          "output_type": "stream",
          "name": "stdout",
          "text": [
            "0.6666666666666666\n"
          ]
        }
      ]
    },
    {
      "cell_type": "code",
      "source": [
        "# 매서드 오버 라이딩\n",
        "\n",
        "class OkCal(BigCal):\n",
        "  def div(self):  # 부모 클래스의 div 매서드가 무시되고 자식의 같은 이름의 매서드가 사용된다. \n",
        "    if self.second == 0:\n",
        "      print('0으로는 나눌수 없습니다.')\n",
        "    else:\n",
        "      return self.first / self.second\n",
        "\n",
        "c = OkCal(2,0)\n",
        "c.div()"
      ],
      "metadata": {
        "colab": {
          "base_uri": "https://localhost:8080/"
        },
        "id": "KDFj3Ew61KZJ",
        "outputId": "cfa35441-0f32-4412-cf41-b36850cd3790"
      },
      "execution_count": 49,
      "outputs": [
        {
          "output_type": "stream",
          "name": "stdout",
          "text": [
            "0으로는 나눌수 없습니다.\n"
          ]
        }
      ]
    },
    {
      "cell_type": "code",
      "source": [
        "# 클래스 변수 \n",
        "\n",
        "# 객체 변수는 다른 객체들의 영향을 받지 않고 독립적으로 그 값을 유지한다는 \n",
        "# 특징이 있음을 할수 있었다. 그렇지만 객체변수와는 그 성격이 완전히 다른 클래스 변수도 있다. \n",
        "\n",
        "class Family:\n",
        "  lastname = \"김\"\n",
        "# 클래스 변수는 공유된다. \n",
        "\n",
        "a = Family()\n",
        "b = Family()\n",
        "print(a.lastname)\n",
        "print(b.lastname)\n",
        "print(Family().lastname)"
      ],
      "metadata": {
        "colab": {
          "base_uri": "https://localhost:8080/"
        },
        "id": "PRldL2cS1MYX",
        "outputId": "8afa145a-a9af-462f-805f-cdd61bb02f56"
      },
      "execution_count": 51,
      "outputs": [
        {
          "output_type": "stream",
          "name": "stdout",
          "text": [
            "김\n",
            "김\n",
            "김\n"
          ]
        }
      ]
    },
    {
      "cell_type": "code",
      "source": [
        "print(a.lastname)\n",
        "print(b.lastname)\n",
        "\n",
        "# 클래스 변수는 중요하게 쓰이지 않는다. 객체변수가 풜씬 중요하다. \n",
        "# 실무에서도 클래스 변수보다 객체변수를 사용하는 비율이 훨씬 많다. "
      ],
      "metadata": {
        "colab": {
          "base_uri": "https://localhost:8080/"
        },
        "id": "EVcwAU781Ouv",
        "outputId": "5aa47cb9-0ba1-424b-884e-0ae21423d8e7"
      },
      "execution_count": 52,
      "outputs": [
        {
          "output_type": "stream",
          "name": "stdout",
          "text": [
            "김\n",
            "김\n"
          ]
        }
      ]
    },
    {
      "cell_type": "code",
      "source": [
        "# 예외 처리 Exeption\n",
        "\n",
        "# 프로그램을 만들다 보면 수많은 오류 / 예외 / 에러 가 발생된다. \n",
        "# 오류는 프로그램이 잘못 동작하는 것을 사전에 막아주는 일종의 배려로 볼수도 있다. \n",
        "# 오류 즉 예외를 어떻게 파이썬은 처리하는지 살펴 보자. \n",
        "\n",
        "# 파이썬에서 자주 접하게 되는 예외\n",
        "# ZeroDevisionError  0으로 나누는 예외\n",
        "# IndexError   없는 인덱스를 호출하였을때 발생 \n"
      ],
      "metadata": {
        "id": "HWa8rQ0z1Qzk"
      },
      "execution_count": null,
      "outputs": []
    },
    {
      "cell_type": "code",
      "source": [
        "# ZeroDevisionError  0으로 나누는 예외\n",
        "4 / 0"
      ],
      "metadata": {
        "colab": {
          "base_uri": "https://localhost:8080/",
          "height": 188
        },
        "id": "CXPXTIjI1WTd",
        "outputId": "f7cf0811-69c9-4270-e0a2-c9e7c410d0b7"
      },
      "execution_count": 53,
      "outputs": [
        {
          "output_type": "error",
          "ename": "ZeroDivisionError",
          "evalue": "ignored",
          "traceback": [
            "\u001b[0;31m---------------------------------------------------------------------------\u001b[0m",
            "\u001b[0;31mZeroDivisionError\u001b[0m                         Traceback (most recent call last)",
            "\u001b[0;32m<ipython-input-53-5965d8945d08>\u001b[0m in \u001b[0;36m<module>\u001b[0;34m\u001b[0m\n\u001b[1;32m      1\u001b[0m \u001b[0;31m# ZeroDevisionError  0으로 나누는 예외\u001b[0m\u001b[0;34m\u001b[0m\u001b[0;34m\u001b[0m\u001b[0;34m\u001b[0m\u001b[0m\n\u001b[0;32m----> 2\u001b[0;31m \u001b[0;36m4\u001b[0m \u001b[0;34m/\u001b[0m \u001b[0;36m0\u001b[0m\u001b[0;34m\u001b[0m\u001b[0;34m\u001b[0m\u001b[0m\n\u001b[0m",
            "\u001b[0;31mZeroDivisionError\u001b[0m: division by zero"
          ]
        }
      ]
    },
    {
      "cell_type": "code",
      "source": [
        "# IndexError   없는 인덱스를 호출하였을때 발생 \n",
        "l1 = [1,2,3,4,5]\n",
        "a[5]"
      ],
      "metadata": {
        "colab": {
          "base_uri": "https://localhost:8080/",
          "height": 205
        },
        "id": "1dRPeBKp1YsF",
        "outputId": "3913112d-210b-4040-f04b-447d70c3e120"
      },
      "execution_count": 54,
      "outputs": [
        {
          "output_type": "error",
          "ename": "TypeError",
          "evalue": "ignored",
          "traceback": [
            "\u001b[0;31m---------------------------------------------------------------------------\u001b[0m",
            "\u001b[0;31mTypeError\u001b[0m                                 Traceback (most recent call last)",
            "\u001b[0;32m<ipython-input-54-64daad1f8cd8>\u001b[0m in \u001b[0;36m<module>\u001b[0;34m\u001b[0m\n\u001b[1;32m      1\u001b[0m \u001b[0;31m# IndexError   없는 인덱스를 호출하였을때 발생\u001b[0m\u001b[0;34m\u001b[0m\u001b[0;34m\u001b[0m\u001b[0;34m\u001b[0m\u001b[0m\n\u001b[1;32m      2\u001b[0m \u001b[0ml1\u001b[0m \u001b[0;34m=\u001b[0m \u001b[0;34m[\u001b[0m\u001b[0;36m1\u001b[0m\u001b[0;34m,\u001b[0m\u001b[0;36m2\u001b[0m\u001b[0;34m,\u001b[0m\u001b[0;36m3\u001b[0m\u001b[0;34m,\u001b[0m\u001b[0;36m4\u001b[0m\u001b[0;34m,\u001b[0m\u001b[0;36m5\u001b[0m\u001b[0;34m]\u001b[0m\u001b[0;34m\u001b[0m\u001b[0;34m\u001b[0m\u001b[0m\n\u001b[0;32m----> 3\u001b[0;31m \u001b[0ma\u001b[0m\u001b[0;34m[\u001b[0m\u001b[0;36m5\u001b[0m\u001b[0;34m]\u001b[0m\u001b[0;34m\u001b[0m\u001b[0;34m\u001b[0m\u001b[0m\n\u001b[0m",
            "\u001b[0;31mTypeError\u001b[0m: 'Family' object is not subscriptable"
          ]
        }
      ]
    },
    {
      "cell_type": "code",
      "source": [
        "# 파이썬에서의 예외 처리 기본\n",
        "\n",
        "# try:\n",
        "#   수행구문\n",
        "# except:\n",
        "#   예외 발생 시 처리 구문\n",
        "\n",
        "try:\n",
        "  print(4 / 0)\n",
        "except:    # 모든 예외 처리\n",
        "  print('0으로는 나눌 수 없습니다. ')"
      ],
      "metadata": {
        "colab": {
          "base_uri": "https://localhost:8080/"
        },
        "id": "iJf4JHUb1apz",
        "outputId": "13ef00f8-157f-4851-f55e-b5969c7e3857"
      },
      "execution_count": 55,
      "outputs": [
        {
          "output_type": "stream",
          "name": "stdout",
          "text": [
            "0으로는 나눌 수 없습니다. \n"
          ]
        }
      ]
    },
    {
      "cell_type": "code",
      "source": [
        "try:\n",
        "  print(4 / 0)\n",
        "except ZeroDivisionError:  # 특정 에러 처리\n",
        "  print('0으로는 나눌 수 없습니다. ')"
      ],
      "metadata": {
        "colab": {
          "base_uri": "https://localhost:8080/"
        },
        "id": "afRtvieA1cuE",
        "outputId": "e1a05e68-8a96-40f6-c2ba-66648d7d969d"
      },
      "execution_count": 56,
      "outputs": [
        {
          "output_type": "stream",
          "name": "stdout",
          "text": [
            "0으로는 나눌 수 없습니다. \n"
          ]
        }
      ]
    },
    {
      "cell_type": "code",
      "source": [
        "try:\n",
        "  print(4 / 0)\n",
        "except ZeroDivisionError as e:  # 특정 에러 를 e변수에 담는다. \n",
        "  print(e)"
      ],
      "metadata": {
        "colab": {
          "base_uri": "https://localhost:8080/"
        },
        "id": "dJrQ54Iq1fF3",
        "outputId": "361c3557-dd26-4b1b-c130-7ea7304fc79a"
      },
      "execution_count": 57,
      "outputs": [
        {
          "output_type": "stream",
          "name": "stdout",
          "text": [
            "division by zero\n"
          ]
        }
      ]
    },
    {
      "cell_type": "code",
      "source": [
        "# finally\n",
        "\n",
        "try:\n",
        "  print(4 / 2)\n",
        "except ZeroDivisionError as e:  # 특정 에러 를 e변수에 담는다. \n",
        "  print(e)\n",
        "finally:   # 예외 발생의 여부와는 관계없이 항상 마지막에 거친다.\n",
        "  print('프로그램을 종료합니다. ')"
      ],
      "metadata": {
        "colab": {
          "base_uri": "https://localhost:8080/"
        },
        "id": "e71pRwS01hVI",
        "outputId": "5e5c79eb-fe32-44ae-a5cf-83bc087a3265"
      },
      "execution_count": 58,
      "outputs": [
        {
          "output_type": "stream",
          "name": "stdout",
          "text": [
            "2.0\n",
            "프로그램을 종료합니다. \n"
          ]
        }
      ]
    },
    {
      "cell_type": "code",
      "source": [
        "# 여러 예외 처리\n",
        "\n",
        "try:\n",
        "  a = [1,2,3,4,5]\n",
        "  print(a[5])\n",
        "  4/0\n",
        "except ZeroDivisionError:\n",
        "  print('0으로는 나눌수 없습니다.')\n",
        "except IndexError:\n",
        "  print('인덱싱 할수 없습니다.')\n",
        "\n",
        "  # 인덱싱 오류가 먼저 발생했기 때문에 4/0 오류는 아예 실행도 되지 않는다. \n"
      ],
      "metadata": {
        "colab": {
          "base_uri": "https://localhost:8080/"
        },
        "id": "-9Ch46vc1jCQ",
        "outputId": "90e59631-2bf1-4212-d80d-55a9c45582ee"
      },
      "execution_count": 59,
      "outputs": [
        {
          "output_type": "stream",
          "name": "stdout",
          "text": [
            "인덱싱 할수 없습니다.\n"
          ]
        }
      ]
    },
    {
      "cell_type": "code",
      "source": [
        "try:\n",
        "  a = [1,2,3,4,5]\n",
        "  # print(a[5])\n",
        "  4/0\n",
        "except (ZeroDivisionError,IndexError) as e:\n",
        "  print(e)\n"
      ],
      "metadata": {
        "colab": {
          "base_uri": "https://localhost:8080/"
        },
        "id": "RCkGxvAs1lAj",
        "outputId": "5d088e18-1397-4a42-dd29-4e413d83ef6e"
      },
      "execution_count": 63,
      "outputs": [
        {
          "output_type": "stream",
          "name": "stdout",
          "text": [
            "division by zero\n"
          ]
        }
      ]
    },
    {
      "cell_type": "code",
      "source": [
        "# try else\n",
        "\n",
        "# try:\n",
        "#   실행구문\n",
        "# except:\n",
        "#   예외 발생시 처리 구문\n",
        "# else:\n",
        "#   오류가 없을때만 실행되는 구문\n",
        "# finally:\n",
        "#   실행구문\n",
        "\n",
        "\n",
        "# 예외 발생시 try -> except ->Finally\n",
        "# 예외 미발생 try -> else ->Finally\n",
        "\n"
      ],
      "metadata": {
        "id": "Q1uLceTh1m27"
      },
      "execution_count": 65,
      "outputs": []
    },
    {
      "cell_type": "code",
      "source": [
        "#오류 발생시키기\n",
        "\n",
        "class Bird:\n",
        "  def fly(self):\n",
        "    raise NotImplementedError #파이썬에 미리 정의된 에러로 꼭 작성해야 하는 부분이 구현되지 않았을 경우 일부러 예외 상황이 아닌 상태에서도 예외 강제 발생\n",
        "\n",
        "class Eagle(Bird):\n",
        "  pass\n",
        "\n",
        "eagle = Eagle()\n",
        "eagle.fly()"
      ],
      "metadata": {
        "colab": {
          "base_uri": "https://localhost:8080/",
          "height": 330
        },
        "id": "zMRHctD-2Mpu",
        "outputId": "bbe47689-dade-4068-8b2d-46d00ab43d8e"
      },
      "execution_count": 4,
      "outputs": [
        {
          "output_type": "error",
          "ename": "NotImplementedError",
          "evalue": "ignored",
          "traceback": [
            "\u001b[0;31m---------------------------------------------------------------------------\u001b[0m",
            "\u001b[0;31mNotImplementedError\u001b[0m                       Traceback (most recent call last)",
            "\u001b[0;32m<ipython-input-4-f68abe20be63>\u001b[0m in \u001b[0;36m<module>\u001b[0;34m\u001b[0m\n\u001b[1;32m      9\u001b[0m \u001b[0;34m\u001b[0m\u001b[0m\n\u001b[1;32m     10\u001b[0m \u001b[0meagle\u001b[0m \u001b[0;34m=\u001b[0m \u001b[0mEagle\u001b[0m\u001b[0;34m(\u001b[0m\u001b[0;34m)\u001b[0m\u001b[0;34m\u001b[0m\u001b[0;34m\u001b[0m\u001b[0m\n\u001b[0;32m---> 11\u001b[0;31m \u001b[0meagle\u001b[0m\u001b[0;34m.\u001b[0m\u001b[0mfly\u001b[0m\u001b[0;34m(\u001b[0m\u001b[0;34m)\u001b[0m\u001b[0;34m\u001b[0m\u001b[0;34m\u001b[0m\u001b[0m\n\u001b[0m",
            "\u001b[0;32m<ipython-input-4-f68abe20be63>\u001b[0m in \u001b[0;36mfly\u001b[0;34m(self)\u001b[0m\n\u001b[1;32m      3\u001b[0m \u001b[0;32mclass\u001b[0m \u001b[0mBird\u001b[0m\u001b[0;34m:\u001b[0m\u001b[0;34m\u001b[0m\u001b[0;34m\u001b[0m\u001b[0m\n\u001b[1;32m      4\u001b[0m   \u001b[0;32mdef\u001b[0m \u001b[0mfly\u001b[0m\u001b[0;34m(\u001b[0m\u001b[0mself\u001b[0m\u001b[0;34m)\u001b[0m\u001b[0;34m:\u001b[0m\u001b[0;34m\u001b[0m\u001b[0;34m\u001b[0m\u001b[0m\n\u001b[0;32m----> 5\u001b[0;31m     \u001b[0;32mraise\u001b[0m \u001b[0mNotImplementedError\u001b[0m \u001b[0;31m#파이썬에 미리 정의된 에러로 꼭 작성해야 하는 부분이 구현되지 않았을 경우 일부러 예외 상황이 아닌 상태에서도 예외 강제 발생\u001b[0m\u001b[0;34m\u001b[0m\u001b[0;34m\u001b[0m\u001b[0m\n\u001b[0m\u001b[1;32m      6\u001b[0m \u001b[0;34m\u001b[0m\u001b[0m\n\u001b[1;32m      7\u001b[0m \u001b[0;32mclass\u001b[0m \u001b[0mEagle\u001b[0m\u001b[0;34m(\u001b[0m\u001b[0mBird\u001b[0m\u001b[0;34m)\u001b[0m\u001b[0;34m:\u001b[0m\u001b[0;34m\u001b[0m\u001b[0;34m\u001b[0m\u001b[0m\n",
            "\u001b[0;31mNotImplementedError\u001b[0m: "
          ]
        }
      ]
    },
    {
      "cell_type": "code",
      "source": [
        "#예외 만들기\n",
        "\n",
        "class MyError(Exception): #파이썬 내장 클래스 상속\n",
        "  pass\n",
        "\n",
        "def say_nick(nick):\n",
        "  if nick == '바보':\n",
        "    raise MyError()\n",
        "  print(nick)\n",
        "\n",
        "print(say_nick('천사'))\n",
        "print(say_nick('바보'))"
      ],
      "metadata": {
        "colab": {
          "base_uri": "https://localhost:8080/",
          "height": 366
        },
        "id": "VhWsFkRi3YPy",
        "outputId": "2ff30d3f-f6fc-4376-9efd-284caeeed053"
      },
      "execution_count": 16,
      "outputs": [
        {
          "output_type": "stream",
          "name": "stdout",
          "text": [
            "천사\n",
            "None\n"
          ]
        },
        {
          "output_type": "error",
          "ename": "MyError",
          "evalue": "ignored",
          "traceback": [
            "\u001b[0;31m---------------------------------------------------------------------------\u001b[0m",
            "\u001b[0;31mMyError\u001b[0m                                   Traceback (most recent call last)",
            "\u001b[0;32m<ipython-input-16-d90ac8ff6151>\u001b[0m in \u001b[0;36m<module>\u001b[0;34m\u001b[0m\n\u001b[1;32m     10\u001b[0m \u001b[0;34m\u001b[0m\u001b[0m\n\u001b[1;32m     11\u001b[0m \u001b[0mprint\u001b[0m\u001b[0;34m(\u001b[0m\u001b[0msay_nick\u001b[0m\u001b[0;34m(\u001b[0m\u001b[0;34m'천사'\u001b[0m\u001b[0;34m)\u001b[0m\u001b[0;34m)\u001b[0m\u001b[0;34m\u001b[0m\u001b[0;34m\u001b[0m\u001b[0m\n\u001b[0;32m---> 12\u001b[0;31m \u001b[0mprint\u001b[0m\u001b[0;34m(\u001b[0m\u001b[0msay_nick\u001b[0m\u001b[0;34m(\u001b[0m\u001b[0;34m'바보'\u001b[0m\u001b[0;34m)\u001b[0m\u001b[0;34m)\u001b[0m\u001b[0;34m\u001b[0m\u001b[0;34m\u001b[0m\u001b[0m\n\u001b[0m",
            "\u001b[0;32m<ipython-input-16-d90ac8ff6151>\u001b[0m in \u001b[0;36msay_nick\u001b[0;34m(nick)\u001b[0m\n\u001b[1;32m      6\u001b[0m \u001b[0;32mdef\u001b[0m \u001b[0msay_nick\u001b[0m\u001b[0;34m(\u001b[0m\u001b[0mnick\u001b[0m\u001b[0;34m)\u001b[0m\u001b[0;34m:\u001b[0m\u001b[0;34m\u001b[0m\u001b[0;34m\u001b[0m\u001b[0m\n\u001b[1;32m      7\u001b[0m   \u001b[0;32mif\u001b[0m \u001b[0mnick\u001b[0m \u001b[0;34m==\u001b[0m \u001b[0;34m'바보'\u001b[0m\u001b[0;34m:\u001b[0m\u001b[0;34m\u001b[0m\u001b[0;34m\u001b[0m\u001b[0m\n\u001b[0;32m----> 8\u001b[0;31m     \u001b[0;32mraise\u001b[0m \u001b[0mMyError\u001b[0m\u001b[0;34m(\u001b[0m\u001b[0;34m)\u001b[0m\u001b[0;34m\u001b[0m\u001b[0;34m\u001b[0m\u001b[0m\n\u001b[0m\u001b[1;32m      9\u001b[0m   \u001b[0mprint\u001b[0m\u001b[0;34m(\u001b[0m\u001b[0mnick\u001b[0m\u001b[0;34m)\u001b[0m\u001b[0;34m\u001b[0m\u001b[0;34m\u001b[0m\u001b[0m\n\u001b[1;32m     10\u001b[0m \u001b[0;34m\u001b[0m\u001b[0m\n",
            "\u001b[0;31mMyError\u001b[0m: "
          ]
        }
      ]
    },
    {
      "cell_type": "code",
      "source": [
        "# q1 사용자에게 숫자를 입력받아서 그 값을 NUM이라는 변수에 저장하는 함수를 만드세요.\n",
        "# 그리고 NUm을 사용하여 1부터 num에 저장된 숫자까지 세는 또 다른 함수를 정의하세요.\n",
        "\n",
        "def input_num():\n",
        "  num = int(input('숫자를 입력하세요.'))\n",
        "  return num\n",
        "\n",
        "def count(input_num):\n",
        "  num = 1\n",
        "  while(num <= input_num):\n",
        "    print(num)\n",
        "    num += 1\n",
        "\n",
        "def main():\n",
        "  return count(input_num())\n",
        "\n",
        "main()"
      ],
      "metadata": {
        "colab": {
          "base_uri": "https://localhost:8080/"
        },
        "id": "_ZgrSkfa4eLw",
        "outputId": "bf140bf0-9b1c-4d2b-f1f6-a8e25035f13d"
      },
      "execution_count": 68,
      "outputs": [
        {
          "output_type": "stream",
          "name": "stdout",
          "text": [
            "숫자를 입력하세요.6\n",
            "1\n",
            "2\n",
            "3\n",
            "4\n",
            "5\n",
            "6\n"
          ]
        }
      ]
    },
    {
      "cell_type": "code",
      "source": [
        "# 낮은 숫자와 높은 숫자를 입력받아\n",
        "# 두 값 사이의 임의의 숫자를 생성하여 COMP_NUm 이름의 변수에 저장하는 PICk_num 함수를 정의하세요.\n",
        "\n",
        "#'하나의 숫자를 생각하세요.'라는 메세지를 출력하고 사용자가 생각한 숫자를 입력받는 First_guess 함수를 정의하세요\n",
        "\n",
        "#사용자가 입력한 숫자와 comp_num이 같은지 확인하여 같다면 정답, 이라는 메세지를 출력하고 틀리면 그 입력한 값이 너무 낮은지 혹은 너무 높은지 알려주고 다시 입력하도록 하여 숫자를 맞출때까지 계속 반복하는 함수를 만드세요.\n",
        "\n",
        "import random\n",
        "\n",
        "def pick_num():\n",
        "  num1 = int(input(\"낮은 숫자를 하나 입력하세요 >\"))\n",
        "  num2 = int(input(\"높은 숫자를 하나 입력하세요 >\"))\n",
        "\n",
        "  comp_num = random.randint(num1, num2)\n",
        "\n",
        "  return comp_num\n",
        "\n",
        "def first_guess():\n",
        "  guess = int(input(\"하나의 숫자를 생각하세요 >\"))\n",
        "  return guess\n",
        "\n",
        "def check_answer(comp_num, guess):\n",
        "  try_again = True\n",
        "  while try_again == True:\n",
        "    if comp_num == guess:\n",
        "      print('정답')\n",
        "      try_again = False\n",
        "    elif comp_num  > guess:\n",
        "      guess = int(input('너무 낮습니다. 다시 시도하세요'))\n",
        "    else:\n",
        "      guess = int(input('너무 높습니다. 다시 시도하세요'))\n",
        "\n",
        "def main():\n",
        "  comp_num = pick_num()\n",
        "  guess = first_guess()\n",
        "  check_answer(comp_num, guess)\n",
        "\n",
        "main()"
      ],
      "metadata": {
        "colab": {
          "base_uri": "https://localhost:8080/"
        },
        "id": "AOTXn0Vq6b4s",
        "outputId": "bb0a75ea-253f-4349-8da1-533610778ec9"
      },
      "execution_count": 35,
      "outputs": [
        {
          "output_type": "stream",
          "name": "stdout",
          "text": [
            "낮은 숫자를 하나 입력하세요 >3\n",
            "높은 숫자를 하나 입력하세요 >5\n",
            "하나의 숫자를 생각하세요 >4\n",
            "너무 높습니다. 다시 시도하세요3\n",
            "정답\n"
          ]
        }
      ]
    },
    {
      "cell_type": "code",
      "source": [
        "# 세 개의 숫자를 입력받아 가장 큰 수를 출력하는 PRINT_max 함수를 정의하라.\n",
        "# 단 if 문을 사용해서 수를 비교하라.\n",
        "\n",
        "def print_max(a,b,c):\n",
        "  max = a\n",
        "  if(b>max):\n",
        "    max = b\n",
        "  if(c > max):\n",
        "    max = c\n",
        "  return max\n",
        "\n",
        "print_max(4,6,2)"
      ],
      "metadata": {
        "colab": {
          "base_uri": "https://localhost:8080/"
        },
        "id": "z7sIYnAqBEp7",
        "outputId": "a95d107b-19df-4351-f013-ad06e05ac6e1"
      },
      "execution_count": 36,
      "outputs": [
        {
          "output_type": "execute_result",
          "data": {
            "text/plain": [
              "6"
            ]
          },
          "metadata": {},
          "execution_count": 36
        }
      ]
    },
    {
      "cell_type": "code",
      "source": [
        "# 입력된 문자열을 역순으로 출력하는 PRINT_reverse 함수를 정의하라.\n",
        "\n",
        "def print_reverse(str):\n",
        "  print(str[::-1])\n",
        "\n",
        "print_reverse(\"hello\")"
      ],
      "metadata": {
        "colab": {
          "base_uri": "https://localhost:8080/"
        },
        "id": "IftL5RWkHx_f",
        "outputId": "845ac7ff-ff08-4419-9da3-27c91f05a167"
      },
      "execution_count": 45,
      "outputs": [
        {
          "output_type": "stream",
          "name": "stdout",
          "text": [
            "olleh\n"
          ]
        }
      ]
    },
    {
      "cell_type": "code",
      "source": [],
      "metadata": {
        "id": "nWiTBEfpIZN0"
      },
      "execution_count": null,
      "outputs": []
    }
  ]
}