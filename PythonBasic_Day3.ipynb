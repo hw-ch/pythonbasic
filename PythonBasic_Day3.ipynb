{
  "nbformat": 4,
  "nbformat_minor": 0,
  "metadata": {
    "colab": {
      "provenance": [],
      "authorship_tag": "ABX9TyOq7tvZM24SgdUxxSdL4cNE",
      "include_colab_link": true
    },
    "kernelspec": {
      "name": "python3",
      "display_name": "Python 3"
    },
    "language_info": {
      "name": "python"
    }
  },
  "cells": [
    {
      "cell_type": "markdown",
      "metadata": {
        "id": "view-in-github",
        "colab_type": "text"
      },
      "source": [
        "<a href=\"https://colab.research.google.com/github/hw-ch/pythonbasic/blob/main/PythonBasic_Day3.ipynb\" target=\"_parent\"><img src=\"https://colab.research.google.com/assets/colab-badge.svg\" alt=\"Open In Colab\"/></a>"
      ]
    },
    {
      "cell_type": "code",
      "execution_count": 2,
      "metadata": {
        "id": "v2fqetPwHxd9"
      },
      "outputs": [],
      "source": [
        "# if조건문\n",
        "\n",
        "# 조건문은 특정 조건을 만족할때 실행되는 코드를 제어한다. 개발하다도면 여러 가지 상황을 처리해야 하는 경우가 발생한다.\n",
        "# 이 때 조건문을 통해 실행되거나 또는 실행되지 않는 코드를 정의할 수 있다.\n",
        "\n",
        "# if의 기본 문법\n",
        "\n",
        "#자바에서의 기본 if문\n",
        "# if(조건식) {\n",
        "#     만족하는 경우 :\n",
        "# }\n",
        "\n",
        "# 파이썬에서의 기본 if문\n",
        "# if 조건식 : # 조건식 뒤에 : 클론을 잊지 말자. 중괄호는 사용하지 않는다.\n",
        "# 조건을 만족하는 경우 실행코드 # 파이썬은 들여쓰기에 매우 민감하다\n",
        "\n",
        "#조건식에서는 항상 언제나 최종값이 True와 False만이 올 수 있다.\n",
        "\n",
        "x = 11\n",
        "if x == 10:\n",
        "  print(x)"
      ]
    },
    {
      "cell_type": "code",
      "source": [
        "a = int(input('정수를 입력하세요 > '))\n",
        "\n",
        "if a == 5:\n",
        "  print(f'입력한 값은 {a}입니다.')"
      ],
      "metadata": {
        "colab": {
          "base_uri": "https://localhost:8080/"
        },
        "id": "0A4UkWfjJwiF",
        "outputId": "f3fee415-eada-4fcb-fd9d-ae99077c9ec9"
      },
      "execution_count": 4,
      "outputs": [
        {
          "output_type": "stream",
          "name": "stdout",
          "text": [
            "정수를 입력하세요 > 5\n",
            "입력한 값은 5입니다.\n"
          ]
        }
      ]
    },
    {
      "cell_type": "code",
      "source": [
        "#조건식을 여러개 취급해야 하는 경우 가능하면 중첩 if문은 사용하지 말자\n",
        "\n",
        "x = 15\n",
        "\n",
        "if x >= 10:\n",
        "  print('x는 10 이상입니다.')\n",
        "  if x <= 20:\n",
        "    print('x는 20 이하입니다.') # 중첩\n",
        "  if x == 15:\n",
        "    print('x는 15입니다.') # 중첩 > 병렬"
      ],
      "metadata": {
        "colab": {
          "base_uri": "https://localhost:8080/"
        },
        "id": "6S6psUN2K4Xu",
        "outputId": "b794417d-73c2-41f7-da41-28aa5e9975a0"
      },
      "execution_count": 5,
      "outputs": [
        {
          "output_type": "stream",
          "name": "stdout",
          "text": [
            "x는 10 이상입니다.\n",
            "x는 20 이하입니다.\n",
            "x는 15입니다.\n"
          ]
        }
      ]
    },
    {
      "cell_type": "code",
      "source": [
        "a = int(input('숫자를 입력하세요'))\n",
        "\n",
        "if a > 5:\n",
        "  print('입력값이 5보다 큽니다.')\n",
        "elif a == 5:\n",
        "  print('입력값이 5입니다.')\n",
        "else:\n",
        "  print('입력값이 5보다 작습니다.')\n",
        "\n"
      ],
      "metadata": {
        "colab": {
          "base_uri": "https://localhost:8080/"
        },
        "id": "MjJdqsJJMgkQ",
        "outputId": "5f95c901-4bf5-4612-d36d-101c24c8d0a0"
      },
      "execution_count": 8,
      "outputs": [
        {
          "output_type": "stream",
          "name": "stdout",
          "text": [
            "숫자를 입력하세요5\n",
            "입력값이 5입니다.\n"
          ]
        }
      ]
    },
    {
      "cell_type": "code",
      "source": [
        "no = int(input('1부터 5사이의 값을 입력하세요.'))\n",
        "\n",
        "if no <5 and no >=4 : #양쪽 조건을 동시에 만족\n",
        "  print('입력값은 4입니다.')\n",
        "elif no <4 and no >=3 : \n",
        "  print('입력값은 3입니다.')\n",
        "elif no <3 and no >=2 : \n",
        "  print('입력값은 2입니다.')\n",
        "elif no <2 and no >=1 : \n",
        "  print('입력값은 1입니다.')\n",
        "else : \n",
        "  print('입력값은 5입니다.')  "
      ],
      "metadata": {
        "colab": {
          "base_uri": "https://localhost:8080/"
        },
        "id": "hWL5yWC9L813",
        "outputId": "94d60441-3f62-4311-c6b8-86318735ac0b"
      },
      "execution_count": 9,
      "outputs": [
        {
          "output_type": "stream",
          "name": "stdout",
          "text": [
            "1부터 5사이의 값을 입력하세요.5\n",
            "입력값은 5입니다.\n"
          ]
        }
      ]
    },
    {
      "cell_type": "code",
      "source": [
        "# 월을 입력하세요? 하고 해당 계절을 출력하세요.\n",
        "# 3,4,5 봄 6,7,8 여름 9,10,11 가을 12,1,2 겨울\n",
        "\n",
        "month = int(input('월을 입력하세요.'))\n"
      ],
      "metadata": {
        "colab": {
          "base_uri": "https://localhost:8080/"
        },
        "id": "PE1lnbVuOBz_",
        "outputId": "2f2bcecd-58d5-42c0-ba73-882cfe42c022"
      },
      "execution_count": 10,
      "outputs": [
        {
          "name": "stdout",
          "output_type": "stream",
          "text": [
            "월을 입력하세요.1\n"
          ]
        }
      ]
    },
    {
      "cell_type": "code",
      "source": [
        "# 정수 하나를 입력 받아서 그 수가 홀수인지 짝수인지를 알려주는 프로그램을 만드세요.\n",
        "\n",
        "su = int(input('숫자를 입력하세요.'))\n",
        "\n",
        "if su%2 ==0:\n",
        "  print('짝수')\n",
        "else:\n",
        "  print('홀수')\n",
        "  "
      ],
      "metadata": {
        "colab": {
          "base_uri": "https://localhost:8080/"
        },
        "id": "Fr7d9vWtUV31",
        "outputId": "1ead6060-a99d-4b40-aed0-6d64951695e2"
      },
      "execution_count": 11,
      "outputs": [
        {
          "output_type": "stream",
          "name": "stdout",
          "text": [
            "숫자를 입력하세요.5\n",
            "홀수\n"
          ]
        }
      ]
    },
    {
      "cell_type": "code",
      "source": [
        "#조건부 표현식 if expression 조건 표현식\n",
        "# 자바의 삼항연산자와는 달리 if를 사용하여 표현한다.\n",
        "\n",
        "no = int(input('정수를 입력하세요.'))\n",
        "answer = '짝수' if no%2 ==0 else '홀수' # True 출력값 if 조건 else False 출력값\n",
        "\n",
        "print(answer)"
      ],
      "metadata": {
        "colab": {
          "base_uri": "https://localhost:8080/"
        },
        "id": "QosDQe50V98_",
        "outputId": "2039ae2d-9df6-483d-f538-4aed03400687"
      },
      "execution_count": 13,
      "outputs": [
        {
          "output_type": "stream",
          "name": "stdout",
          "text": [
            "정수를 입력하세요.5\n",
            "홀수\n"
          ]
        }
      ]
    },
    {
      "cell_type": "code",
      "source": [
        "#if 와 in 연산자\n",
        "list1 = ['봄', '가을']\n",
        "input1 = input('어느 계절을 좋아하시나요?')\n",
        "\n",
        "if input1 in list1:\n",
        "  print(f'{input1}은 여행 가능한 목록에 있습니다.')\n",
        "else:\n",
        "  print(f'{input1}은 여행이 불가능합니다.')"
      ],
      "metadata": {
        "colab": {
          "base_uri": "https://localhost:8080/"
        },
        "id": "m43ZYq9jWMMy",
        "outputId": "7240b905-eb74-42ab-ef94-2ef084cac2de"
      },
      "execution_count": 14,
      "outputs": [
        {
          "output_type": "stream",
          "name": "stdout",
          "text": [
            "어느 계절을 좋아하시나요?겨울\n",
            "겨울은 여행이 불가능합니다.\n"
          ]
        }
      ]
    },
    {
      "cell_type": "code",
      "source": [
        "score = int(input('성적?'))\n",
        "\n",
        "if score >= 90:\n",
        "  rank ='A'\n",
        "elif score >=80:\n",
        "  rank ='B'\n",
        "elif score >=70:\n",
        "  rank ='C'\n",
        "elif score >=60:\n",
        "  rank='D'\n",
        "else:\n",
        "  rnad='F'\n",
        "\n",
        "print(f'당신의 점수 {score}는 {rank}학점입니다.')"
      ],
      "metadata": {
        "colab": {
          "base_uri": "https://localhost:8080/"
        },
        "id": "OJBvjmMMXki5",
        "outputId": "0ce1f111-be27-44cc-a24a-7d8ff4affe8d"
      },
      "execution_count": 16,
      "outputs": [
        {
          "output_type": "stream",
          "name": "stdout",
          "text": [
            "성적?75\n",
            "당신의 점수 75는 C학점입니다.\n"
          ]
        }
      ]
    },
    {
      "cell_type": "code",
      "source": [
        "# 반복문 while For\n",
        "# While은 반복횟수가 불명확할때 주로 사용되고, For문은 반복횟수가 명확할 때 주로 사용된다.\n",
        "\n",
        "# 예를 들어 'hi' 10번 반복하여 출력하고자 한다."
      ],
      "metadata": {
        "id": "D4eZwQbXYi27"
      },
      "execution_count": 15,
      "outputs": []
    },
    {
      "cell_type": "code",
      "source": [
        "for i in range(10): #range는 인수 3개가 기본이다. range(start, stop, step)\n",
        "#start 생략가능 0에서 시작 step 생략가능 하나씩 증가\n",
        "  print('ht') "
      ],
      "metadata": {
        "colab": {
          "base_uri": "https://localhost:8080/"
        },
        "id": "lqAZ-XkcbcQQ",
        "outputId": "4fb0c151-49c8-4666-f8b5-a25ba168e7c4"
      },
      "execution_count": 18,
      "outputs": [
        {
          "output_type": "stream",
          "name": "stdout",
          "text": [
            "ht\n",
            "ht\n",
            "ht\n",
            "ht\n",
            "ht\n",
            "ht\n",
            "ht\n",
            "ht\n",
            "ht\n",
            "ht\n"
          ]
        }
      ]
    },
    {
      "cell_type": "code",
      "source": [
        "list1 = [10,30,20,50]\n",
        "\n",
        "for i in list1:\n",
        "  print(i)\n",
        "\n",
        "for i in range(4):\n",
        "  print(list1[i])"
      ],
      "metadata": {
        "colab": {
          "base_uri": "https://localhost:8080/"
        },
        "id": "ZYqRUHjqbgnZ",
        "outputId": "cdac9aa2-04da-493d-f586-94b70be04065"
      },
      "execution_count": 20,
      "outputs": [
        {
          "output_type": "stream",
          "name": "stdout",
          "text": [
            "10\n",
            "30\n",
            "20\n",
            "50\n",
            "10\n",
            "30\n",
            "20\n",
            "50\n"
          ]
        }
      ]
    },
    {
      "cell_type": "code",
      "source": [
        "# 리스트와 for문을 이용하여 1~100까지의 합 구하기\n",
        "\n",
        "numbers = list(range(1,101))\n",
        "\n",
        "sum=0\n",
        "\n",
        "for number in numbers:\n",
        "  sum += number\n",
        "\n",
        "print(sum)"
      ],
      "metadata": {
        "colab": {
          "base_uri": "https://localhost:8080/"
        },
        "id": "bFR7AtqNc6wR",
        "outputId": "43ece9e3-e8a1-4c7e-f6d8-7772572ab411"
      },
      "execution_count": 27,
      "outputs": [
        {
          "output_type": "stream",
          "name": "stdout",
          "text": [
            "5050\n"
          ]
        }
      ]
    },
    {
      "cell_type": "code",
      "source": [
        "# 2중 for문\n",
        "\n",
        "for i in range(2, 10):\n",
        "  print(f\"------------{i}단------------\")\n",
        "  for j in range(1, 10):\n",
        "    print(f\"{i}*{j}={i*j}\")\n",
        "  "
      ],
      "metadata": {
        "id": "zfdsIgbAdqMm"
      },
      "execution_count": null,
      "outputs": []
    },
    {
      "cell_type": "code",
      "source": [
        "# 2중 for문\n",
        "\n",
        "for i in range(2, 10):\n",
        "  for j in range(1, 10):\n",
        "    print(f\"{i}*{j}={i*j}\", end=\" \\t\")\n",
        "  print(\"\")"
      ],
      "metadata": {
        "colab": {
          "base_uri": "https://localhost:8080/"
        },
        "id": "sVCyVPq1jNRI",
        "outputId": "2afd2362-9cba-401e-f275-99582e3d6442"
      },
      "execution_count": 33,
      "outputs": [
        {
          "output_type": "stream",
          "name": "stdout",
          "text": [
            "2*1=2 \t2*2=4 \t2*3=6 \t2*4=8 \t2*5=10 \t2*6=12 \t2*7=14 \t2*8=16 \t2*9=18 \t\n",
            "3*1=3 \t3*2=6 \t3*3=9 \t3*4=12 \t3*5=15 \t3*6=18 \t3*7=21 \t3*8=24 \t3*9=27 \t\n",
            "4*1=4 \t4*2=8 \t4*3=12 \t4*4=16 \t4*5=20 \t4*6=24 \t4*7=28 \t4*8=32 \t4*9=36 \t\n",
            "5*1=5 \t5*2=10 \t5*3=15 \t5*4=20 \t5*5=25 \t5*6=30 \t5*7=35 \t5*8=40 \t5*9=45 \t\n",
            "6*1=6 \t6*2=12 \t6*3=18 \t6*4=24 \t6*5=30 \t6*6=36 \t6*7=42 \t6*8=48 \t6*9=54 \t\n",
            "7*1=7 \t7*2=14 \t7*3=21 \t7*4=28 \t7*5=35 \t7*6=42 \t7*7=49 \t7*8=56 \t7*9=63 \t\n",
            "8*1=8 \t8*2=16 \t8*3=24 \t8*4=32 \t8*5=40 \t8*6=48 \t8*7=56 \t8*8=64 \t8*9=72 \t\n",
            "9*1=9 \t9*2=18 \t9*3=27 \t9*4=36 \t9*5=45 \t9*6=54 \t9*7=63 \t9*8=72 \t9*9=81 \t\n"
          ]
        }
      ]
    },
    {
      "cell_type": "code",
      "source": [
        "#While\n",
        "\n",
        "#조건 True에 따라 무한 반복\n",
        "# While True: \n",
        "#   print(\"hi\")"
      ],
      "metadata": {
        "id": "E4Om33A6iWn_"
      },
      "execution_count": 34,
      "outputs": []
    },
    {
      "cell_type": "code",
      "source": [
        "#파이썬은 자바처럼 i++ 즉 증감연산자는 사용하지 않는다. i = i+1\n",
        "i = 10\n",
        "while i > 5 :\n",
        "  print('hi')\n",
        "  i -= 1"
      ],
      "metadata": {
        "colab": {
          "base_uri": "https://localhost:8080/"
        },
        "id": "Jt41ufHIlBO9",
        "outputId": "86590291-7216-4345-b469-af8bd15df8f5"
      },
      "execution_count": 39,
      "outputs": [
        {
          "output_type": "stream",
          "name": "stdout",
          "text": [
            "hi\n",
            "hi\n",
            "hi\n",
            "hi\n",
            "hi\n"
          ]
        }
      ]
    },
    {
      "cell_type": "code",
      "source": [
        "import random\n",
        "\n",
        "temp_no = 0\n",
        "while temp_no != 3: #3이 나올때까지 반복\n",
        "  temp_no = random.randint(1,6)\n",
        "  print(f'발생된 난수는 {temp_no}')"
      ],
      "metadata": {
        "colab": {
          "base_uri": "https://localhost:8080/"
        },
        "id": "3cNKoT90lpdn",
        "outputId": "6dc30072-21eb-46af-ecaa-7456f7c10f92"
      },
      "execution_count": 47,
      "outputs": [
        {
          "output_type": "stream",
          "name": "stdout",
          "text": [
            "발생된 난수는 1\n",
            "발생된 난수는 6\n",
            "발생된 난수는 4\n",
            "발생된 난수는 2\n",
            "발생된 난수는 5\n",
            "발생된 난수는 4\n",
            "발생된 난수는 6\n",
            "발생된 난수는 6\n",
            "발생된 난수는 3\n"
          ]
        }
      ]
    },
    {
      "cell_type": "code",
      "source": [
        "# 난수 발생 정리\n",
        "\n",
        "import random # random 모듈 임포트 후 사용\n",
        "\n",
        "random.random() # 0에서 1미만 실수 float으로 생성"
      ],
      "metadata": {
        "colab": {
          "base_uri": "https://localhost:8080/"
        },
        "id": "2RsGXT2KmA3n",
        "outputId": "61ff1159-3bba-459b-910b-22b39f24ac07"
      },
      "execution_count": 48,
      "outputs": [
        {
          "output_type": "execute_result",
          "data": {
            "text/plain": [
              "0.6795859854101792"
            ]
          },
          "metadata": {},
          "execution_count": 48
        }
      ]
    },
    {
      "cell_type": "code",
      "source": [
        "random.randint(1,10) # 1에서 10 이하의 정수 하나 생성"
      ],
      "metadata": {
        "colab": {
          "base_uri": "https://localhost:8080/"
        },
        "id": "DtqSiggpn6jF",
        "outputId": "e9c0ee41-7c06-4b20-8714-5b1751dbd6a4"
      },
      "execution_count": 49,
      "outputs": [
        {
          "output_type": "execute_result",
          "data": {
            "text/plain": [
              "9"
            ]
          },
          "metadata": {},
          "execution_count": 49
        }
      ]
    },
    {
      "cell_type": "code",
      "source": [
        "random.randrange(0,10,2) #0에서 10미만 2의배수"
      ],
      "metadata": {
        "colab": {
          "base_uri": "https://localhost:8080/"
        },
        "id": "CWKON4Xaox7c",
        "outputId": "42877514-3e0c-4a25-b5fe-8c73e2ea1b1c"
      },
      "execution_count": 50,
      "outputs": [
        {
          "output_type": "execute_result",
          "data": {
            "text/plain": [
              "8"
            ]
          },
          "metadata": {},
          "execution_count": 50
        }
      ]
    },
    {
      "cell_type": "code",
      "source": [
        "random.choice(['봄','여름','가을','겨울']) # 리스트의 값들 중 하나를 임의로 선택"
      ],
      "metadata": {
        "colab": {
          "base_uri": "https://localhost:8080/",
          "height": 36
        },
        "id": "D_awwFsBoOcP",
        "outputId": "fe3aca5f-abf6-4597-b209-74aa88d6e829"
      },
      "execution_count": 51,
      "outputs": [
        {
          "output_type": "execute_result",
          "data": {
            "text/plain": [
              "'가을'"
            ],
            "application/vnd.google.colaboratory.intrinsic+json": {
              "type": "string"
            }
          },
          "metadata": {},
          "execution_count": 51
        }
      ]
    },
    {
      "cell_type": "code",
      "source": [
        "random.sample(range(1,46), 6)"
      ],
      "metadata": {
        "colab": {
          "base_uri": "https://localhost:8080/"
        },
        "id": "GbIo946zo2T8",
        "outputId": "632fa8ba-c65c-401b-fdcd-cd5bc5bdb2c3"
      },
      "execution_count": 52,
      "outputs": [
        {
          "output_type": "execute_result",
          "data": {
            "text/plain": [
              "[4, 21, 13, 9, 5, 38]"
            ]
          },
          "metadata": {},
          "execution_count": 52
        }
      ]
    },
    {
      "cell_type": "code",
      "source": [
        "list1 = [1,2,3,4,5]\n",
        "\n",
        "random.shuffle(list1)\n",
        "\n",
        "print(list1)"
      ],
      "metadata": {
        "colab": {
          "base_uri": "https://localhost:8080/"
        },
        "id": "IjFMiKhgo44F",
        "outputId": "658a5ee6-320b-4205-ef1f-0311c270fce5"
      },
      "execution_count": 53,
      "outputs": [
        {
          "output_type": "stream",
          "name": "stdout",
          "text": [
            "[3, 4, 5, 1, 2]\n"
          ]
        }
      ]
    },
    {
      "cell_type": "code",
      "source": [
        "# break 강제로 while문 빠져나가기\n",
        "# continue 하단의 내용은 건너 뛰고 다시 반복문으로 들어가기\n",
        "\n",
        "i=0\n",
        "\n",
        "while i < 100:\n",
        "  i += 1\n",
        "  if i % 2 == 0: continue\n",
        "  print(i)"
      ],
      "metadata": {
        "id": "4oMeRG73padY"
      },
      "execution_count": null,
      "outputs": []
    },
    {
      "cell_type": "code",
      "source": [
        "i=0\n",
        "while True :\n",
        "  i += 1\n",
        "  if i ==10: break\n",
        "  print(i)"
      ],
      "metadata": {
        "colab": {
          "base_uri": "https://localhost:8080/"
        },
        "id": "bFufyv_ur-Mg",
        "outputId": "ac45d00e-8449-4a30-ecff-209561bd86d4"
      },
      "execution_count": 60,
      "outputs": [
        {
          "output_type": "stream",
          "name": "stdout",
          "text": [
            "1\n",
            "2\n",
            "3\n",
            "4\n",
            "5\n",
            "6\n",
            "7\n",
            "8\n",
            "9\n"
          ]
        }
      ]
    },
    {
      "cell_type": "code",
      "source": [],
      "metadata": {
        "id": "Ld6pIXPPqxZI"
      },
      "execution_count": null,
      "outputs": []
    }
  ]
}