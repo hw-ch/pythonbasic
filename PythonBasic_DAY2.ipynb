{
  "nbformat": 4,
  "nbformat_minor": 0,
  "metadata": {
    "colab": {
      "provenance": [],
      "authorship_tag": "ABX9TyMD87p8QwH38YeZl0I77xBY",
      "include_colab_link": true
    },
    "kernelspec": {
      "name": "python3",
      "display_name": "Python 3"
    },
    "language_info": {
      "name": "python"
    }
  },
  "cells": [
    {
      "cell_type": "markdown",
      "metadata": {
        "id": "view-in-github",
        "colab_type": "text"
      },
      "source": [
        "<a href=\"https://colab.research.google.com/github/hw-ch/pythonbasic/blob/main/PythonBasic_DAY2.ipynb\" target=\"_parent\"><img src=\"https://colab.research.google.com/assets/colab-badge.svg\" alt=\"Open In Colab\"/></a>"
      ]
    },
    {
      "cell_type": "code",
      "source": [
        "# 문자열 함수들(메서드들)\n",
        "\n",
        "\n",
        "# 문자 개수 세기 count\n",
        "\n",
        "a = \"school\"\n",
        "a.count('o')\n",
        "\n",
        "# 위치 알아내기 (find) 만약 없는 문자를 찾는 경우 -1 출력\n",
        "\n",
        "a = \"school\"\n",
        "print(a.find('o'))\n",
        "print(a.find('z'))\n",
        "\n",
        "# 위치 알아내기 (index) 만약 없는 문자를 찾는 경우 오류 출력\n",
        "\n",
        "a = \"school\"\n",
        "print(a.index('o'))\n",
        "# print(a.index('z'))\n",
        "\n",
        "# 문자 삽입 join\n",
        "\n",
        "print(\" \".join(\"abcd\"))\n",
        "print(\",\".join(\"abcd\"))\n",
        "\n",
        "#대문자로 바꾸기 upper\n",
        "\n",
        "a = \"Hello\"\n",
        "a.upper()\n",
        "\n",
        "# 소문자로 바꾸기 lower\n",
        "a=\"Hello\"\n",
        "a.lower()\n",
        "\n",
        "#공백 제거 왼쪽 lstrip\n",
        "a = \" Hello\"\n",
        "a.lstrip()\n",
        "\n",
        "#공백 제거 오른쪽 rstrip\n",
        "a = \" Hello \"\n",
        "a.rstrip()\n",
        "\n",
        "\n",
        "#공백 제거 오른쪽 왼쪽 strip\n",
        "a = \" Hello \"\n",
        "a.strip()\n",
        "\n",
        "# 글자 바꾸기 replace\n",
        "\n",
        "a= \"I love you\"\n",
        "a.replace('love', 'hate')\n",
        "\n",
        "# 문자열 나누기 split\n",
        "\n",
        "addr = \"서울시 강남구 서초동 1111\"\n",
        "print(addr.split()) #생략하면 빈칸을 기준으로 분리한다.\n",
        "\n",
        "addr = \"서울시.강남구.서초동.1111\"\n",
        "print(addr.split(\".\")) #지정하면 해당 문자를 기준으로 분리한다.\n",
        "print(type(addr.split('.')))"
      ],
      "metadata": {
        "id": "N3E9spzj08qJ"
      },
      "execution_count": null,
      "outputs": []
    },
    {
      "cell_type": "code",
      "source": [
        "# tuple, list, set, dict\n",
        "#여러 데이터들의 묶음 Collection 콜렉션\n",
        "\n",
        "# list\n",
        "# [] 대괄호로 만든다.\n",
        "# mutable 수정 가능하다.\n",
        "# indexing & slicing이 가능하다.\n",
        "# [1]\n",
        "# unordered 순서가 있다.\n",
        "\n",
        "a = []\n",
        "b = [1,2,3]\n",
        "c = ['a','b','c']\n",
        "d = [1, 2, 'a', 'b']\n",
        "\n",
        "print(b[0])  #인덱싱\n",
        "print(c[1:]) #슬라이싱\n",
        "print(d[-1]) #마지막 요소는 -1\n",
        "\n",
        "# a[0] = 9   # a 리스트에는 아무 원소도 없어서 에러 발생\n",
        "b[0] = 9     # b 리스트는 원소가 있으므로 수정 가능\n",
        "print(b)\n",
        "\n",
        "print(c)\n",
        "del c[2]     # 리스트는 삭제가 가능하다. \n",
        "print(c)\n",
        "\n",
        "print(a)\n",
        "a.append(0)  # 리스트는 삽입이 가능하다. \n",
        "print(a)"
      ],
      "metadata": {
        "colab": {
          "base_uri": "https://localhost:8080/"
        },
        "id": "tljHqgAAkj_q",
        "outputId": "b38f222a-42dd-4833-ddac-ac048ba4e013"
      },
      "execution_count": null,
      "outputs": [
        {
          "output_type": "stream",
          "name": "stdout",
          "text": [
            "1\n",
            "['b', 'c']\n",
            "b\n",
            "[9, 2, 3]\n",
            "['a', 'b', 'c']\n",
            "['a', 'b']\n",
            "[]\n",
            "[0]\n"
          ]
        }
      ]
    },
    {
      "cell_type": "code",
      "source": [
        "# 리스트에서 많이 사용되는 함수 정리\n",
        "\n",
        "# 요소 추가 append  마지막에 요소추가\n",
        "a.append(0)   \n",
        "print(a)\n",
        "a.append('a') \n",
        "print(a)\n",
        "\n",
        "# 요소 추가 insert 특정 위치를 지정하여 맘대로 요소 추가\n",
        "d = [1,2,3]\n",
        "d.insert(0,4)\n",
        "\n",
        "# 정렬 sort\n",
        "a = [1,3,2,4]\n",
        "a.sort()\n",
        "print(a)\n",
        "\n",
        "# 뒤집기 reverse\n",
        "a.reverse()\n",
        "print(a)\n",
        "\n",
        "# 인덱스 index\n",
        "print(a.index(3))\n",
        "# a.index(5)  없는 요소는 에러 발생한다. \n",
        "\n",
        "# 삭제 remove  중복되는 수는 처음 등장하는 하나만 삭제한다. \n",
        "print()\n",
        "a = [1,2,3,3,5]\n",
        "a.remove(3)\n",
        "print(a)\n",
        "\n",
        "print(\"-\"*20)\n",
        "# 삭제 pop - 리스트의 마지막 요소를 삭제한다\n",
        "a = [1,2,3]\n",
        "print(\"a : \", a)\n",
        "#괄호에 값이 없으면 마지막 요소를 하나 삭제\n",
        "print(\"a.pop() : \" , a.pop())\n",
        "print(\"a.pop(0) : \" , a) # 괄호에 값이 있으면 그 요소를 삭제\n",
        "\n",
        "print(\"-\"*20)\n",
        "#개수 세기 - 특정 요소의 개수 세기\n",
        "a = [1,2,3,3]\n",
        "print(\"a :\", a)\n",
        "print(\"a.count(3) : \", a.count(3))"
      ],
      "metadata": {
        "colab": {
          "base_uri": "https://localhost:8080/"
        },
        "id": "4pydXLrU1i_B",
        "outputId": "efd32f0b-9c12-4f5c-ccc6-cddb0950b1c3"
      },
      "execution_count": null,
      "outputs": [
        {
          "output_type": "stream",
          "name": "stdout",
          "text": [
            "[1, 2, 0]\n",
            "[1, 2, 0, 'a']\n",
            "[1, 2, 3, 4]\n",
            "[4, 3, 2, 1]\n",
            "1\n",
            "\n",
            "[1, 2, 3, 5]\n",
            "--------------------\n",
            "a :  [1, 2, 3]\n",
            "a.pop() :  3\n",
            "a.pop(0) :  [1, 2]\n",
            "--------------------\n",
            "a : [1, 2, 3, 3]\n",
            "a.count(3) :  2\n"
          ]
        }
      ]
    },
    {
      "cell_type": "code",
      "source": [
        "# tuble\n",
        "# () 소괄호로 만든다.\n",
        "# immutable 수정이 불가능하다.\n",
        "# indexing & slicing이 가능하다.\n",
        "# ordered 순서가 있다.\n",
        "# 한 개의 요소로 tuple을 만들 때는 (1,) 쉼표를 넣는다.\n",
        "\n",
        "\n",
        "a=()\n",
        "print(\"a : \", a)\n",
        "b = (1,) # 한개의 요소로 튜플을 만들 때는 쉼표를 넣는다.\n",
        "print(\"b : \", b)\n",
        "c = (1,2,3)\n",
        "print(\"c : \", c)\n",
        "d = (1,2,'a','b')\n",
        "print(\"d : \", d)\n",
        "print(\"-\"*30)\n",
        "\n",
        "#del d[0] #immutable -> 삭제가 불가능하다. ('tuple' object doesn't support item deletion)\n",
        "# d[0] = 9 #immutable -> 수정이 불가능하다. ('tuple' object does not support item assignment)\n",
        "# d.append(5) #immutable -> 삽입이 불가능하다. ('tuple' object has no attribute 'append')\n",
        "\n",
        "print(\"d[0] : \", d[0]) #인덱싱\n",
        "print(\"d[0:2] : \" , d[0:2]) # 슬라이싱이 가능하다. 마지막은 미만으로 처리한다. \n",
        "\n",
        "print(\"len(d) : \", len(d)) # 튜플 요소의 개수를 반환하는 함수\n"
      ],
      "metadata": {
        "colab": {
          "base_uri": "https://localhost:8080/"
        },
        "id": "aNky1ygjltRx",
        "outputId": "23e84cc7-25d3-4aa5-e452-aff73086d807"
      },
      "execution_count": null,
      "outputs": [
        {
          "output_type": "stream",
          "name": "stdout",
          "text": [
            "a :  ()\n",
            "b :  (1,)\n",
            "c :  (1, 2, 3)\n",
            "d :  (1, 2, 'a', 'b')\n",
            "------------------------------\n",
            "d[0] :  1\n",
            "d[0:2] :  (1, 2)\n",
            "len(d) :  4\n"
          ]
        }
      ]
    },
    {
      "cell_type": "code",
      "source": [
        "# DICT\n",
        "#  {} 중괄호로 만든다. \n",
        "#  mutable 수정 가능하다. \n",
        "#  indexing & slicing 이 불가능하다.\n",
        "#  unordered 순서가 없다.\n",
        "#  키값과 밸류 값으로 데이터가 저장된다. \n",
        "\n",
        "# 세상의 많은 데이터가 키값:밸류값 형태로 표현된다. 이름:홍길동, 나이:20 \n",
        "# 이러한 대응 관계를 파이썬에서 데이터를 저장하는 방식을 딕셔너리라고 한다. \n",
        "# 마치 JS 의 JSON 과 상당히 유사한 공통점을 가지고 있다. \n",
        "\n",
        "a = {'이름':'홍길동', '나이':20}\n",
        "b = {'이름':'홍길동', '나이':20, '보유코인':['비트코인','에이다','이더리움']}\n",
        "\n",
        "a['키'] = 185   # dict 는 mutable 한 속성으로 삽입이 가능하다. \n",
        "print(a)\n",
        "del a['나이']   # dict 는 mutable 한 속성으로 삭제도 가능하다. \n",
        "print(a)\n",
        "a['키'] = 190   # dict 는 mutable 한 속성으로 수정도 가능하다. \n",
        "print(a)\n",
        "\n",
        "# a[0]          # dict 는 인덱싱이 불가능하다. \n",
        "# a[0:2]        # dict 는 슬라이싱이 불가능하다. "
      ],
      "metadata": {
        "colab": {
          "base_uri": "https://localhost:8080/"
        },
        "id": "DVy8JQ8TAM_9",
        "outputId": "c62653ce-b8b2-4dab-ce91-474093e450f1"
      },
      "execution_count": null,
      "outputs": [
        {
          "output_type": "stream",
          "name": "stdout",
          "text": [
            "{'이름': '홍길동', '나이': 20, '키': 185}\n",
            "{'이름': '홍길동', '키': 185}\n",
            "{'이름': '홍길동', '키': 190}\n"
          ]
        }
      ]
    },
    {
      "cell_type": "code",
      "source": [
        "# 딕셔너리에서 많이 사용되는 함수 정리\n",
        "# 딕셔너리에서 키값들만 추출\n",
        "\n",
        "a = {'이름':'홍길동', '나이':20, '보유코인':['비트코인','에이다','이더리움']}\n",
        "print(a.keys())\n",
        "\n",
        "# 딕셔너리에서 밸류값들만 추출\n",
        "print(a.values())\n",
        "\n",
        "# 쌍으로 추출  (튜플 쌍으로 추출)\n",
        "print(a.items())\n",
        "\n",
        "# 키값으로 밸류값 추출 \n",
        "print(a.get('이름'))\n",
        "print(a.get('몸무게'))  # 찾는 키값이 없을때 None 출력한다. \n",
        "\n",
        "# 키값으로 밸류값 추출 (인덱싱이 불가능하기 때문에 꺼낼때 많이 사용된다. )\n",
        "print(a['이름'])\n",
        "# print(a['몸무게'])      # 찾는 키값이 없을때 예외 발생된다. \n",
        "\n",
        "# 키가 딕셔너리안에 있는지 확인\n",
        "print('이름' in a)               # 찾는 키값이 있을때 true 반환\n",
        "print('몸무게' in a)             # 찾는 키값이 없을때 false 반환\n"
      ],
      "metadata": {
        "colab": {
          "base_uri": "https://localhost:8080/"
        },
        "id": "4LVSfp7kBSOu",
        "outputId": "106c1c67-136d-4948-f60d-5f9d401084c6"
      },
      "execution_count": null,
      "outputs": [
        {
          "output_type": "stream",
          "name": "stdout",
          "text": [
            "dict_keys(['이름', '나이', '보유코인'])\n",
            "dict_values(['홍길동', 20, ['비트코인', '에이다', '이더리움']])\n",
            "dict_items([('이름', '홍길동'), ('나이', 20), ('보유코인', ['비트코인', '에이다', '이더리움'])])\n",
            "홍길동\n",
            "None\n",
            "홍길동\n",
            "True\n",
            "False\n"
          ]
        }
      ]
    },
    {
      "cell_type": "code",
      "source": [
        "\n",
        "# set\n",
        "# {} 중괄호로 만든다.\n",
        "# mutable 수정 가능하다.\n",
        "# indexing & slicing 불가능하다.\n",
        "# 중복 데이터를 허용하지 않는다.\n",
        "# unordered 순서가 없다.\n",
        "\n",
        "# a = {} # 딕셔너리와 셋은 동일하게 {} 를 사용한다. 따라서 빈 값으로 생성할 때는 주의하자\n",
        "a = set()\n",
        "print(\"a : \", a)\n",
        "b= {1,2,3}\n",
        "print(\"b : \", b)\n",
        "c = {1,2,'a','b'}\n",
        "print(\"c : \", c)\n",
        "d = {1,2,2,2,3,4,4} #중복 데이터 자동으로 삭제됨\n",
        "print(\"d : \", d)\n",
        "\n",
        "print(\"-\"*30)\n",
        "\n",
        "# mutable 삽입 가능하다.\n",
        "a.add(0)\n",
        "print(\"a.add(0) : \", a)\n",
        "# mutable 삭제 가능하다.\n",
        "c.remove(2)\n",
        "print(\"c.remove(2) : \", c)"
      ],
      "metadata": {
        "colab": {
          "base_uri": "https://localhost:8080/"
        },
        "id": "mnQvVHFtBUHx",
        "outputId": "83fdfb1b-f2f9-4686-df52-2fc33602dd9a"
      },
      "execution_count": null,
      "outputs": [
        {
          "output_type": "stream",
          "name": "stdout",
          "text": [
            "a :  set()\n",
            "b :  {1, 2, 3}\n",
            "c :  {1, 2, 'a', 'b'}\n",
            "d :  {1, 2, 3, 4}\n",
            "------------------------------\n",
            "a.add(0) :  {0}\n",
            "c.remove(2) :  {1, 'a', 'b'}\n"
          ]
        }
      ]
    },
    {
      "cell_type": "code",
      "source": [
        "# Bool 자료형 Boolean\n",
        "\n",
        "# 반드시 대문자로 시작한다\n",
        "a = True\n",
        "b = False\n",
        "c = \"true\"\n",
        "print(\"type(a) : \", type(a))\n",
        "print(\"type(c) : \", type(c))\n",
        "\n",
        "print(\"1 == 1 : \", 1 == 1)\n",
        "print(\"1 != 1 :\", 1 != 1)"
      ],
      "metadata": {
        "colab": {
          "base_uri": "https://localhost:8080/"
        },
        "id": "jCqScF3UBkq1",
        "outputId": "1d01661a-4c93-4814-dee9-b6937ebedb7e"
      },
      "execution_count": null,
      "outputs": [
        {
          "output_type": "stream",
          "name": "stdout",
          "text": [
            "type(a) :  <class 'bool'>\n",
            "type(c) :  <class 'str'>\n",
            "1 == 1 :  True\n",
            "1 != 1 : False\n"
          ]
        }
      ]
    },
    {
      "cell_type": "code",
      "source": [
        "a = input()\n",
        "print(a)"
      ],
      "metadata": {
        "colab": {
          "base_uri": "https://localhost:8080/"
        },
        "id": "hQwFU3j-b__h",
        "outputId": "57be6645-48f6-4f8e-fb01-95c5c23e7728"
      },
      "execution_count": 2,
      "outputs": [
        {
          "output_type": "stream",
          "name": "stdout",
          "text": [
            "하이\n",
            "하이\n"
          ]
        }
      ]
    },
    {
      "cell_type": "code",
      "source": [
        "a = input(\"지금이 오후인가요?\")\n",
        "print(a)"
      ],
      "metadata": {
        "colab": {
          "base_uri": "https://localhost:8080/"
        },
        "id": "XYYFX0ovb3Bm",
        "outputId": "d458e558-12d5-4ea5-92ca-aebf8388b778"
      },
      "execution_count": 1,
      "outputs": [
        {
          "output_type": "stream",
          "name": "stdout",
          "text": [
            "지금이 오후인가요?네네\n",
            "네네\n"
          ]
        }
      ]
    },
    {
      "cell_type": "code",
      "source": [
        "# 파이썬에서 input은 항상 일단 먼저 모두 문자 취급한다.\n",
        "\n",
        "# a = input(\"지금이 몇시에요?\")\n",
        "#print( a+1) -> 오류\n",
        "\n",
        "a = int(input(\"지금부터 한 시간 뒤는 몇시인가요?\"))\n",
        "print(a+1)"
      ],
      "metadata": {
        "id": "Q7_Abu_oEvnD",
        "colab": {
          "base_uri": "https://localhost:8080/"
        },
        "outputId": "980ce0c5-cdef-4a4b-a377-975a6d15d26d"
      },
      "execution_count": null,
      "outputs": [
        {
          "output_type": "stream",
          "name": "stdout",
          "text": [
            "지금부터 한 시간 뒤는 몇시인가요?4\n",
            "5\n"
          ]
        }
      ]
    },
    {
      "cell_type": "code",
      "source": [
        "countires = ('C1', 'C2', 'C3', 'C4', 'C5')\n",
        "print(countires)\n",
        "answer = input(\"Please enter one of the countires from above :\")\n",
        "print(countires.index(answer))"
      ],
      "metadata": {
        "colab": {
          "base_uri": "https://localhost:8080/"
        },
        "id": "vhe2sSj_cSKy",
        "outputId": "b2cda44f-7a75-4d17-fd3b-1301e74949ad"
      },
      "execution_count": 4,
      "outputs": [
        {
          "output_type": "stream",
          "name": "stdout",
          "text": [
            "('C1', 'C2', 'C3', 'C4', 'C5')\n",
            "Please enter one of the countires from above :C3\n",
            "2\n"
          ]
        }
      ]
    },
    {
      "cell_type": "code",
      "source": [
        "sports = ['S1', 'S2']\n",
        "sports.append(input(\"What is your favorite sport?\"))\n",
        "sports.sort()\n",
        "print(sports);"
      ],
      "metadata": {
        "colab": {
          "base_uri": "https://localhost:8080/"
        },
        "id": "fGFDVawfJ3uW",
        "outputId": "a39cd6ba-2d61-4661-e095-9d4532a31ac5"
      },
      "execution_count": 10,
      "outputs": [
        {
          "output_type": "stream",
          "name": "stdout",
          "text": [
            "What is your favorite sport?111\n",
            "['111', 'S1', 'S2']\n"
          ]
        }
      ]
    },
    {
      "cell_type": "code",
      "source": [
        "subjects = [\"S1\", \"S2\",\"S3\",\"S4\",\"S5\",\"S6\"]\n",
        "print(subjects)\n",
        "dislike = input(\"Which of these subjects do you dislike?\")\n",
        "subjects.remove(dislike)\n",
        "print(subjects)"
      ],
      "metadata": {
        "id": "fZd4iSLQKzjh",
        "colab": {
          "base_uri": "https://localhost:8080/"
        },
        "outputId": "4ac0057f-b618-4257-a63a-11ba2491b177"
      },
      "execution_count": 11,
      "outputs": [
        {
          "output_type": "stream",
          "name": "stdout",
          "text": [
            "['S1', 'S2', 'S3', 'S4', 'S5', 'S6']\n",
            "Which of these subjects do you dislike?S1\n",
            "['S2', 'S3', 'S4', 'S5', 'S6']\n"
          ]
        }
      ]
    },
    {
      "cell_type": "code",
      "source": [
        "food_dict = dict()\n",
        "\n",
        "food1 = input(\"food1?\")\n",
        "food_dict[1] = food1\n",
        "food2 = input(\"food2?\")\n",
        "food_dict[2] = food2\n",
        "food3 = input(\"food3?\")\n",
        "food_dict[3] = food3\n",
        "food4 = input(\"food4?\")\n",
        "food_dict[4] = food4\n",
        "print(food_dict)\n",
        "dislike = int(input(\"which of these do you want to get rid of?\"))\n",
        "del food_dict[dislike]\n",
        "print(sorted(food_dict.values()))"
      ],
      "metadata": {
        "colab": {
          "base_uri": "https://localhost:8080/"
        },
        "id": "gEOR9DvuhLXr",
        "outputId": "79e35d5f-1096-46c8-bf96-f7905eb481a0"
      },
      "execution_count": 16,
      "outputs": [
        {
          "output_type": "stream",
          "name": "stdout",
          "text": [
            "food1?f1\n",
            "food2?f2\n",
            "food3?f3\n",
            "food4?f4\n",
            "{1: 'f1', 2: 'f2', 3: 'f3', 4: 'f4'}\n",
            "which of these do you want to get rid of?2\n",
            "['f1', 'f3', 'f4']\n"
          ]
        }
      ]
    },
    {
      "cell_type": "code",
      "source": [
        "colors = ['c1','c2','c3','c4','c5','c6','c7','c8','c9','c10']\n",
        "n1 = int(input(\"Enter number between 0 and 4\"))\n",
        "n2 = int(input(\"Enter number between 5 and 9\"))\n",
        "colors[n1:n2]"
      ],
      "metadata": {
        "colab": {
          "base_uri": "https://localhost:8080/"
        },
        "id": "Zhrkpdj7jJrC",
        "outputId": "5c3f6a52-32fd-483b-ad26-774b76a4e126"
      },
      "execution_count": 17,
      "outputs": [
        {
          "name": "stdout",
          "output_type": "stream",
          "text": [
            "Enter number between 0 and 44\n",
            "Enter number between 5 and 95\n"
          ]
        },
        {
          "output_type": "execute_result",
          "data": {
            "text/plain": [
              "['c5']"
            ]
          },
          "metadata": {},
          "execution_count": 17
        }
      ]
    },
    {
      "cell_type": "code",
      "source": [],
      "metadata": {
        "id": "Gmcc5igqkScy"
      },
      "execution_count": null,
      "outputs": []
    }
  ]
}